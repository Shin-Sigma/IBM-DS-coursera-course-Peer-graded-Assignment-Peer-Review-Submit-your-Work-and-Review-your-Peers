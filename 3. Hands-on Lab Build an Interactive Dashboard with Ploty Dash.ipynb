{
 "cells": [
  {
   "cell_type": "code",
   "execution_count": 1,
   "id": "bc4df461-5e36-4971-ae7a-c9dc2a490a51",
   "metadata": {},
   "outputs": [
    {
     "name": "stderr",
     "output_type": "stream",
     "text": [
      "C:\\Users\\Shin\\AppData\\Local\\Temp\\ipykernel_31748\\2423366366.py:4: UserWarning: \n",
      "The dash_html_components package is deprecated. Please replace\n",
      "`import dash_html_components as html` with `from dash import html`\n",
      "  import dash_html_components as html\n",
      "C:\\Users\\Shin\\AppData\\Local\\Temp\\ipykernel_31748\\2423366366.py:5: UserWarning: \n",
      "The dash_core_components package is deprecated. Please replace\n",
      "`import dash_core_components as dcc` with `from dash import dcc`\n",
      "  import dash_core_components as dcc\n"
     ]
    },
    {
     "name": "stdout",
     "output_type": "stream",
     "text": [
      "Complete\n"
     ]
    }
   ],
   "source": [
    "# Import required libraries\n",
    "import pandas as pd\n",
    "import dash\n",
    "import dash_html_components as html\n",
    "import dash_core_components as dcc\n",
    "from dash.dependencies import Input, Output\n",
    "import plotly.express as px\n",
    "print('Complete')"
   ]
  },
  {
   "cell_type": "code",
   "execution_count": 2,
   "id": "07f37f16-d2c5-4f2b-9a19-231842f4e699",
   "metadata": {},
   "outputs": [
    {
     "data": {
      "text/plain": [
       "'C:\\\\Users\\\\Shin\\\\Downloads\\\\10. Applied data science capstone\\\\DS capstone Week3'"
      ]
     },
     "execution_count": 2,
     "metadata": {},
     "output_type": "execute_result"
    }
   ],
   "source": [
    "import os \n",
    "os.getcwd()"
   ]
  },
  {
   "cell_type": "code",
   "execution_count": 3,
   "id": "1809122a-bec4-43bf-b567-fad64b7f1223",
   "metadata": {},
   "outputs": [
    {
     "data": {
      "text/html": [
       "<div>\n",
       "<style scoped>\n",
       "    .dataframe tbody tr th:only-of-type {\n",
       "        vertical-align: middle;\n",
       "    }\n",
       "\n",
       "    .dataframe tbody tr th {\n",
       "        vertical-align: top;\n",
       "    }\n",
       "\n",
       "    .dataframe thead th {\n",
       "        text-align: right;\n",
       "    }\n",
       "</style>\n",
       "<table border=\"1\" class=\"dataframe\">\n",
       "  <thead>\n",
       "    <tr style=\"text-align: right;\">\n",
       "      <th></th>\n",
       "      <th>Unnamed: 0</th>\n",
       "      <th>Flight Number</th>\n",
       "      <th>Launch Site</th>\n",
       "      <th>class</th>\n",
       "      <th>Payload Mass (kg)</th>\n",
       "      <th>Booster Version</th>\n",
       "      <th>Booster Version Category</th>\n",
       "    </tr>\n",
       "  </thead>\n",
       "  <tbody>\n",
       "    <tr>\n",
       "      <th>0</th>\n",
       "      <td>0</td>\n",
       "      <td>1</td>\n",
       "      <td>CCAFS LC-40</td>\n",
       "      <td>0</td>\n",
       "      <td>0.0</td>\n",
       "      <td>F9 v1.0  B0003</td>\n",
       "      <td>v1.0</td>\n",
       "    </tr>\n",
       "    <tr>\n",
       "      <th>1</th>\n",
       "      <td>1</td>\n",
       "      <td>2</td>\n",
       "      <td>CCAFS LC-40</td>\n",
       "      <td>0</td>\n",
       "      <td>0.0</td>\n",
       "      <td>F9 v1.0  B0004</td>\n",
       "      <td>v1.0</td>\n",
       "    </tr>\n",
       "  </tbody>\n",
       "</table>\n",
       "</div>"
      ],
      "text/plain": [
       "   Unnamed: 0  Flight Number  Launch Site  class  Payload Mass (kg)  \\\n",
       "0           0              1  CCAFS LC-40      0                0.0   \n",
       "1           1              2  CCAFS LC-40      0                0.0   \n",
       "\n",
       "  Booster Version Booster Version Category  \n",
       "0  F9 v1.0  B0003                     v1.0  \n",
       "1  F9 v1.0  B0004                     v1.0  "
      ]
     },
     "execution_count": 3,
     "metadata": {},
     "output_type": "execute_result"
    }
   ],
   "source": [
    "df = pd.read_csv(r'spacex_launch_dash.csv')\n",
    "df.head(2)"
   ]
  },
  {
   "cell_type": "code",
   "execution_count": 4,
   "id": "6b1fb5c7-1de2-4576-8f5d-ab4e07dd9bbb",
   "metadata": {
    "scrolled": true
   },
   "outputs": [
    {
     "data": {
      "text/plain": [
       "0     False\n",
       "1     False\n",
       "2     False\n",
       "3     False\n",
       "4     False\n",
       "5      True\n",
       "6      True\n",
       "7      True\n",
       "8      True\n",
       "9      True\n",
       "10     True\n",
       "11     True\n",
       "12     True\n",
       "13    False\n",
       "14     True\n",
       "15     True\n",
       "16     True\n",
       "17     True\n",
       "18     True\n",
       "19     True\n",
       "20     True\n",
       "21     True\n",
       "22     True\n",
       "23     True\n",
       "24     True\n",
       "25     True\n",
       "26    False\n",
       "27    False\n",
       "28    False\n",
       "29    False\n",
       "30    False\n",
       "31    False\n",
       "32    False\n",
       "33     True\n",
       "34    False\n",
       "35     True\n",
       "36     True\n",
       "37     True\n",
       "38     True\n",
       "39     True\n",
       "40     True\n",
       "41     True\n",
       "42     True\n",
       "43     True\n",
       "44     True\n",
       "45     True\n",
       "46     True\n",
       "47     True\n",
       "48     True\n",
       "49     True\n",
       "50     True\n",
       "51     True\n",
       "52     True\n",
       "53     True\n",
       "54    False\n",
       "55     True\n",
       "Name: Payload Mass (kg), dtype: bool"
      ]
     },
     "execution_count": 4,
     "metadata": {},
     "output_type": "execute_result"
    }
   ],
   "source": [
    "(df['Payload Mass (kg)'] > 1000) & (df['Payload Mass (kg)'] <8000)"
   ]
  },
  {
   "cell_type": "code",
   "execution_count": 7,
   "id": "ccbf8f4b-e2d9-4385-aafd-3a86d66e347a",
   "metadata": {},
   "outputs": [
    {
     "data": {
      "text/plain": [
       "[{'label': 'CCAFS LC-40', 'value': 'CCAFS LC-40'},\n",
       " {'label': 'VAFB SLC-4E', 'value': 'VAFB SLC-4E'},\n",
       " {'label': 'KSC LC-39A', 'value': 'KSC LC-39A'},\n",
       " {'label': 'CCAFS SLC-40', 'value': 'CCAFS SLC-40'},\n",
       " {'label': 'All', 'value': 'All'}]"
      ]
     },
     "execution_count": 7,
     "metadata": {},
     "output_type": "execute_result"
    }
   ],
   "source": [
    "LaunchSites = df['Launch Site'].unique().tolist()\n",
    "LaunchSites.append('All')\n",
    "options = [{'label': site, 'value': site} for site in LaunchSites]\n",
    "# Read the airline data into pandas dataframe\n",
    "# spacex_df = pd.read_csv(\"spacex_launch_dash.csv\")\n",
    "max_payload = df['Payload Mass (kg)'].max()\n",
    "min_payload = df['Payload Mass (kg)'].min()\n",
    "options"
   ]
  },
  {
   "cell_type": "code",
   "execution_count": 8,
   "id": "eac23d93-e050-480c-b0ca-d13a77074d0a",
   "metadata": {},
   "outputs": [
    {
     "data": {
      "text/plain": [
       "[32, 24]"
      ]
     },
     "execution_count": 8,
     "metadata": {},
     "output_type": "execute_result"
    }
   ],
   "source": [
    "df['class'].value_counts().to_list()"
   ]
  },
  {
   "cell_type": "code",
   "execution_count": 9,
   "id": "a2199d0a-ad31-4c06-b9c7-28e4503e947f",
   "metadata": {},
   "outputs": [
    {
     "data": {
      "application/vnd.plotly.v1+json": {
       "config": {
        "plotlyServerURL": "https://plot.ly"
       },
       "data": [
        {
         "hovertemplate": "Booster Version=F9 v1.0  B0003<br>Payload Mass (kg)=%{x}<br>class=%{y}<extra></extra>",
         "legendgroup": "F9 v1.0  B0003",
         "marker": {
          "color": "#636efa",
          "symbol": "circle"
         },
         "mode": "markers",
         "name": "F9 v1.0  B0003",
         "orientation": "v",
         "showlegend": true,
         "type": "scatter",
         "x": [
          0
         ],
         "xaxis": "x",
         "y": [
          0
         ],
         "yaxis": "y"
        },
        {
         "hovertemplate": "Booster Version=F9 v1.0  B0004<br>Payload Mass (kg)=%{x}<br>class=%{y}<extra></extra>",
         "legendgroup": "F9 v1.0  B0004",
         "marker": {
          "color": "#EF553B",
          "symbol": "circle"
         },
         "mode": "markers",
         "name": "F9 v1.0  B0004",
         "orientation": "v",
         "showlegend": true,
         "type": "scatter",
         "x": [
          0
         ],
         "xaxis": "x",
         "y": [
          0
         ],
         "yaxis": "y"
        },
        {
         "hovertemplate": "Booster Version=F9 v1.0  B0005<br>Payload Mass (kg)=%{x}<br>class=%{y}<extra></extra>",
         "legendgroup": "F9 v1.0  B0005",
         "marker": {
          "color": "#00cc96",
          "symbol": "circle"
         },
         "mode": "markers",
         "name": "F9 v1.0  B0005",
         "orientation": "v",
         "showlegend": true,
         "type": "scatter",
         "x": [
          525
         ],
         "xaxis": "x",
         "y": [
          0
         ],
         "yaxis": "y"
        },
        {
         "hovertemplate": "Booster Version=F9 v1.0  B0006<br>Payload Mass (kg)=%{x}<br>class=%{y}<extra></extra>",
         "legendgroup": "F9 v1.0  B0006",
         "marker": {
          "color": "#ab63fa",
          "symbol": "circle"
         },
         "mode": "markers",
         "name": "F9 v1.0  B0006",
         "orientation": "v",
         "showlegend": true,
         "type": "scatter",
         "x": [
          500
         ],
         "xaxis": "x",
         "y": [
          0
         ],
         "yaxis": "y"
        },
        {
         "hovertemplate": "Booster Version=F9 v1.0  B0007<br>Payload Mass (kg)=%{x}<br>class=%{y}<extra></extra>",
         "legendgroup": "F9 v1.0  B0007",
         "marker": {
          "color": "#FFA15A",
          "symbol": "circle"
         },
         "mode": "markers",
         "name": "F9 v1.0  B0007",
         "orientation": "v",
         "showlegend": true,
         "type": "scatter",
         "x": [
          677
         ],
         "xaxis": "x",
         "y": [
          0
         ],
         "yaxis": "y"
        },
        {
         "hovertemplate": "Booster Version=F9 v1.1<br>Payload Mass (kg)=%{x}<br>class=%{y}<extra></extra>",
         "legendgroup": "F9 v1.1",
         "marker": {
          "color": "#19d3f3",
          "symbol": "circle"
         },
         "mode": "markers",
         "name": "F9 v1.1",
         "orientation": "v",
         "showlegend": true,
         "type": "scatter",
         "x": [
          3170,
          3325,
          2296,
          1316,
          4535
         ],
         "xaxis": "x",
         "y": [
          0,
          0,
          0,
          0,
          0
         ],
         "yaxis": "y"
        },
        {
         "hovertemplate": "Booster Version=F9 v1.1 B1011<br>Payload Mass (kg)=%{x}<br>class=%{y}<extra></extra>",
         "legendgroup": "F9 v1.1 B1011",
         "marker": {
          "color": "#FF6692",
          "symbol": "circle"
         },
         "mode": "markers",
         "name": "F9 v1.1 B1011",
         "orientation": "v",
         "showlegend": true,
         "type": "scatter",
         "x": [
          4428
         ],
         "xaxis": "x",
         "y": [
          0
         ],
         "yaxis": "y"
        },
        {
         "hovertemplate": "Booster Version=F9 v1.1 B1010<br>Payload Mass (kg)=%{x}<br>class=%{y}<extra></extra>",
         "legendgroup": "F9 v1.1 B1010",
         "marker": {
          "color": "#B6E880",
          "symbol": "circle"
         },
         "mode": "markers",
         "name": "F9 v1.1 B1010",
         "orientation": "v",
         "showlegend": true,
         "type": "scatter",
         "x": [
          2216
         ],
         "xaxis": "x",
         "y": [
          0
         ],
         "yaxis": "y"
        },
        {
         "hovertemplate": "Booster Version=F9 v1.1 B1012<br>Payload Mass (kg)=%{x}<br>class=%{y}<extra></extra>",
         "legendgroup": "F9 v1.1 B1012",
         "marker": {
          "color": "#FF97FF",
          "symbol": "circle"
         },
         "mode": "markers",
         "name": "F9 v1.1 B1012",
         "orientation": "v",
         "showlegend": true,
         "type": "scatter",
         "x": [
          2395
         ],
         "xaxis": "x",
         "y": [
          0
         ],
         "yaxis": "y"
        },
        {
         "hovertemplate": "Booster Version=F9 v1.1 B1013<br>Payload Mass (kg)=%{x}<br>class=%{y}<extra></extra>",
         "legendgroup": "F9 v1.1 B1013",
         "marker": {
          "color": "#FECB52",
          "symbol": "circle"
         },
         "mode": "markers",
         "name": "F9 v1.1 B1013",
         "orientation": "v",
         "showlegend": true,
         "type": "scatter",
         "x": [
          570
         ],
         "xaxis": "x",
         "y": [
          0
         ],
         "yaxis": "y"
        },
        {
         "hovertemplate": "Booster Version=F9 v1.1 B1014<br>Payload Mass (kg)=%{x}<br>class=%{y}<extra></extra>",
         "legendgroup": "F9 v1.1 B1014",
         "marker": {
          "color": "#636efa",
          "symbol": "circle"
         },
         "mode": "markers",
         "name": "F9 v1.1 B1014",
         "orientation": "v",
         "showlegend": true,
         "type": "scatter",
         "x": [
          4159
         ],
         "xaxis": "x",
         "y": [
          0
         ],
         "yaxis": "y"
        },
        {
         "hovertemplate": "Booster Version=F9 v1.1 B1015<br>Payload Mass (kg)=%{x}<br>class=%{y}<extra></extra>",
         "legendgroup": "F9 v1.1 B1015",
         "marker": {
          "color": "#EF553B",
          "symbol": "circle"
         },
         "mode": "markers",
         "name": "F9 v1.1 B1015",
         "orientation": "v",
         "showlegend": true,
         "type": "scatter",
         "x": [
          1898
         ],
         "xaxis": "x",
         "y": [
          0
         ],
         "yaxis": "y"
        },
        {
         "hovertemplate": "Booster Version=F9 v1.1 B1016<br>Payload Mass (kg)=%{x}<br>class=%{y}<extra></extra>",
         "legendgroup": "F9 v1.1 B1016",
         "marker": {
          "color": "#00cc96",
          "symbol": "circle"
         },
         "mode": "markers",
         "name": "F9 v1.1 B1016",
         "orientation": "v",
         "showlegend": true,
         "type": "scatter",
         "x": [
          4707
         ],
         "xaxis": "x",
         "y": [
          0
         ],
         "yaxis": "y"
        },
        {
         "hovertemplate": "Booster Version=F9 v1.1 B1018<br>Payload Mass (kg)=%{x}<br>class=%{y}<extra></extra>",
         "legendgroup": "F9 v1.1 B1018",
         "marker": {
          "color": "#ab63fa",
          "symbol": "circle"
         },
         "mode": "markers",
         "name": "F9 v1.1 B1018",
         "orientation": "v",
         "showlegend": true,
         "type": "scatter",
         "x": [
          1952
         ],
         "xaxis": "x",
         "y": [
          1
         ],
         "yaxis": "y"
        },
        {
         "hovertemplate": "Booster Version=F9 FT B1019<br>Payload Mass (kg)=%{x}<br>class=%{y}<extra></extra>",
         "legendgroup": "F9 FT B1019",
         "marker": {
          "color": "#FFA15A",
          "symbol": "circle"
         },
         "mode": "markers",
         "name": "F9 FT B1019",
         "orientation": "v",
         "showlegend": true,
         "type": "scatter",
         "x": [
          2034
         ],
         "xaxis": "x",
         "y": [
          1
         ],
         "yaxis": "y"
        },
        {
         "hovertemplate": "Booster Version=F9 FT B1020<br>Payload Mass (kg)=%{x}<br>class=%{y}<extra></extra>",
         "legendgroup": "F9 FT B1020",
         "marker": {
          "color": "#19d3f3",
          "symbol": "circle"
         },
         "mode": "markers",
         "name": "F9 FT B1020",
         "orientation": "v",
         "showlegend": true,
         "type": "scatter",
         "x": [
          5271
         ],
         "xaxis": "x",
         "y": [
          0
         ],
         "yaxis": "y"
        },
        {
         "hovertemplate": "Booster Version=F9 FT B1021.1<br>Payload Mass (kg)=%{x}<br>class=%{y}<extra></extra>",
         "legendgroup": "F9 FT B1021.1",
         "marker": {
          "color": "#FF6692",
          "symbol": "circle"
         },
         "mode": "markers",
         "name": "F9 FT B1021.1",
         "orientation": "v",
         "showlegend": true,
         "type": "scatter",
         "x": [
          3136
         ],
         "xaxis": "x",
         "y": [
          1
         ],
         "yaxis": "y"
        },
        {
         "hovertemplate": "Booster Version=F9 FT B1022<br>Payload Mass (kg)=%{x}<br>class=%{y}<extra></extra>",
         "legendgroup": "F9 FT B1022",
         "marker": {
          "color": "#B6E880",
          "symbol": "circle"
         },
         "mode": "markers",
         "name": "F9 FT B1022",
         "orientation": "v",
         "showlegend": true,
         "type": "scatter",
         "x": [
          4696
         ],
         "xaxis": "x",
         "y": [
          1
         ],
         "yaxis": "y"
        },
        {
         "hovertemplate": "Booster Version=F9 FT B1023.1<br>Payload Mass (kg)=%{x}<br>class=%{y}<extra></extra>",
         "legendgroup": "F9 FT B1023.1",
         "marker": {
          "color": "#FF97FF",
          "symbol": "circle"
         },
         "mode": "markers",
         "name": "F9 FT B1023.1",
         "orientation": "v",
         "showlegend": true,
         "type": "scatter",
         "x": [
          3100
         ],
         "xaxis": "x",
         "y": [
          1
         ],
         "yaxis": "y"
        },
        {
         "hovertemplate": "Booster Version=F9 FT B1024<br>Payload Mass (kg)=%{x}<br>class=%{y}<extra></extra>",
         "legendgroup": "F9 FT B1024",
         "marker": {
          "color": "#FECB52",
          "symbol": "circle"
         },
         "mode": "markers",
         "name": "F9 FT B1024",
         "orientation": "v",
         "showlegend": true,
         "type": "scatter",
         "x": [
          3600
         ],
         "xaxis": "x",
         "y": [
          0
         ],
         "yaxis": "y"
        },
        {
         "hovertemplate": "Booster Version=F9 FT B1025.1<br>Payload Mass (kg)=%{x}<br>class=%{y}<extra></extra>",
         "legendgroup": "F9 FT B1025.1",
         "marker": {
          "color": "#636efa",
          "symbol": "circle"
         },
         "mode": "markers",
         "name": "F9 FT B1025.1",
         "orientation": "v",
         "showlegend": true,
         "type": "scatter",
         "x": [
          2257
         ],
         "xaxis": "x",
         "y": [
          1
         ],
         "yaxis": "y"
        },
        {
         "hovertemplate": "Booster Version=F9 FT B1026<br>Payload Mass (kg)=%{x}<br>class=%{y}<extra></extra>",
         "legendgroup": "F9 FT B1026",
         "marker": {
          "color": "#EF553B",
          "symbol": "circle"
         },
         "mode": "markers",
         "name": "F9 FT B1026",
         "orientation": "v",
         "showlegend": true,
         "type": "scatter",
         "x": [
          4600
         ],
         "xaxis": "x",
         "y": [
          1
         ],
         "yaxis": "y"
        },
        {
         "hovertemplate": "Booster Version=F9 v1.1  B1003<br>Payload Mass (kg)=%{x}<br>class=%{y}<extra></extra>",
         "legendgroup": "F9 v1.1  B1003",
         "marker": {
          "color": "#00cc96",
          "symbol": "circle"
         },
         "mode": "markers",
         "name": "F9 v1.1  B1003",
         "orientation": "v",
         "showlegend": true,
         "type": "scatter",
         "x": [
          500
         ],
         "xaxis": "x",
         "y": [
          0
         ],
         "yaxis": "y"
        },
        {
         "hovertemplate": "Booster Version=F9 v1.1 B1017<br>Payload Mass (kg)=%{x}<br>class=%{y}<extra></extra>",
         "legendgroup": "F9 v1.1 B1017",
         "marker": {
          "color": "#ab63fa",
          "symbol": "circle"
         },
         "mode": "markers",
         "name": "F9 v1.1 B1017",
         "orientation": "v",
         "showlegend": true,
         "type": "scatter",
         "x": [
          553
         ],
         "xaxis": "x",
         "y": [
          0
         ],
         "yaxis": "y"
        },
        {
         "hovertemplate": "Booster Version=F9 FT B1029.1<br>Payload Mass (kg)=%{x}<br>class=%{y}<extra></extra>",
         "legendgroup": "F9 FT B1029.1",
         "marker": {
          "color": "#FFA15A",
          "symbol": "circle"
         },
         "mode": "markers",
         "name": "F9 FT B1029.1",
         "orientation": "v",
         "showlegend": true,
         "type": "scatter",
         "x": [
          9600
         ],
         "xaxis": "x",
         "y": [
          1
         ],
         "yaxis": "y"
        },
        {
         "hovertemplate": "Booster Version=F9 FT B1036.1<br>Payload Mass (kg)=%{x}<br>class=%{y}<extra></extra>",
         "legendgroup": "F9 FT B1036.1",
         "marker": {
          "color": "#19d3f3",
          "symbol": "circle"
         },
         "mode": "markers",
         "name": "F9 FT B1036.1",
         "orientation": "v",
         "showlegend": true,
         "type": "scatter",
         "x": [
          9600
         ],
         "xaxis": "x",
         "y": [
          1
         ],
         "yaxis": "y"
        },
        {
         "hovertemplate": "Booster Version=F9 FT B1038.1<br>Payload Mass (kg)=%{x}<br>class=%{y}<extra></extra>",
         "legendgroup": "F9 FT B1038.1",
         "marker": {
          "color": "#FF6692",
          "symbol": "circle"
         },
         "mode": "markers",
         "name": "F9 FT B1038.1",
         "orientation": "v",
         "showlegend": true,
         "type": "scatter",
         "x": [
          475
         ],
         "xaxis": "x",
         "y": [
          1
         ],
         "yaxis": "y"
        },
        {
         "hovertemplate": "Booster Version=F9 B4 B1041.1<br>Payload Mass (kg)=%{x}<br>class=%{y}<extra></extra>",
         "legendgroup": "F9 B4 B1041.1",
         "marker": {
          "color": "#B6E880",
          "symbol": "circle"
         },
         "mode": "markers",
         "name": "F9 B4 B1041.1",
         "orientation": "v",
         "showlegend": true,
         "type": "scatter",
         "x": [
          9600
         ],
         "xaxis": "x",
         "y": [
          1
         ],
         "yaxis": "y"
        },
        {
         "hovertemplate": "Booster Version=F9 FT  B1036.2<br>Payload Mass (kg)=%{x}<br>class=%{y}<extra></extra>",
         "legendgroup": "F9 FT  B1036.2",
         "marker": {
          "color": "#FF97FF",
          "symbol": "circle"
         },
         "mode": "markers",
         "name": "F9 FT  B1036.2",
         "orientation": "v",
         "showlegend": true,
         "type": "scatter",
         "x": [
          9600
         ],
         "xaxis": "x",
         "y": [
          0
         ],
         "yaxis": "y"
        },
        {
         "hovertemplate": "Booster Version=F9 FT  B1038.2<br>Payload Mass (kg)=%{x}<br>class=%{y}<extra></extra>",
         "legendgroup": "F9 FT  B1038.2",
         "marker": {
          "color": "#FECB52",
          "symbol": "circle"
         },
         "mode": "markers",
         "name": "F9 FT  B1038.2",
         "orientation": "v",
         "showlegend": true,
         "type": "scatter",
         "x": [
          2150
         ],
         "xaxis": "x",
         "y": [
          0
         ],
         "yaxis": "y"
        },
        {
         "hovertemplate": "Booster Version=F9 B4  B1041.2<br>Payload Mass (kg)=%{x}<br>class=%{y}<extra></extra>",
         "legendgroup": "F9 B4  B1041.2",
         "marker": {
          "color": "#636efa",
          "symbol": "circle"
         },
         "mode": "markers",
         "name": "F9 B4  B1041.2",
         "orientation": "v",
         "showlegend": true,
         "type": "scatter",
         "x": [
          9600
         ],
         "xaxis": "x",
         "y": [
          0
         ],
         "yaxis": "y"
        },
        {
         "hovertemplate": "Booster Version=F9 B4  B1043.2<br>Payload Mass (kg)=%{x}<br>class=%{y}<extra></extra>",
         "legendgroup": "F9 B4  B1043.2",
         "marker": {
          "color": "#EF553B",
          "symbol": "circle"
         },
         "mode": "markers",
         "name": "F9 B4  B1043.2",
         "orientation": "v",
         "showlegend": true,
         "type": "scatter",
         "x": [
          6460
         ],
         "xaxis": "x",
         "y": [
          0
         ],
         "yaxis": "y"
        },
        {
         "hovertemplate": "Booster Version=F9 FT B1031.1<br>Payload Mass (kg)=%{x}<br>class=%{y}<extra></extra>",
         "legendgroup": "F9 FT B1031.1",
         "marker": {
          "color": "#00cc96",
          "symbol": "circle"
         },
         "mode": "markers",
         "name": "F9 FT B1031.1",
         "orientation": "v",
         "showlegend": true,
         "type": "scatter",
         "x": [
          2490
         ],
         "xaxis": "x",
         "y": [
          1
         ],
         "yaxis": "y"
        },
        {
         "hovertemplate": "Booster Version=F9 FT B1030<br>Payload Mass (kg)=%{x}<br>class=%{y}<extra></extra>",
         "legendgroup": "F9 FT B1030",
         "marker": {
          "color": "#ab63fa",
          "symbol": "circle"
         },
         "mode": "markers",
         "name": "F9 FT B1030",
         "orientation": "v",
         "showlegend": true,
         "type": "scatter",
         "x": [
          5600
         ],
         "xaxis": "x",
         "y": [
          0
         ],
         "yaxis": "y"
        },
        {
         "hovertemplate": "Booster Version=F9 FT  B1021.2<br>Payload Mass (kg)=%{x}<br>class=%{y}<extra></extra>",
         "legendgroup": "F9 FT  B1021.2",
         "marker": {
          "color": "#FFA15A",
          "symbol": "circle"
         },
         "mode": "markers",
         "name": "F9 FT  B1021.2",
         "orientation": "v",
         "showlegend": true,
         "type": "scatter",
         "x": [
          5300
         ],
         "xaxis": "x",
         "y": [
          1
         ],
         "yaxis": "y"
        },
        {
         "hovertemplate": "Booster Version=F9 FT B1032.1<br>Payload Mass (kg)=%{x}<br>class=%{y}<extra></extra>",
         "legendgroup": "F9 FT B1032.1",
         "marker": {
          "color": "#19d3f3",
          "symbol": "circle"
         },
         "mode": "markers",
         "name": "F9 FT B1032.1",
         "orientation": "v",
         "showlegend": true,
         "type": "scatter",
         "x": [
          3696.65
         ],
         "xaxis": "x",
         "y": [
          1
         ],
         "yaxis": "y"
        },
        {
         "hovertemplate": "Booster Version=F9 FT B1034<br>Payload Mass (kg)=%{x}<br>class=%{y}<extra></extra>",
         "legendgroup": "F9 FT B1034",
         "marker": {
          "color": "#FF6692",
          "symbol": "circle"
         },
         "mode": "markers",
         "name": "F9 FT B1034",
         "orientation": "v",
         "showlegend": true,
         "type": "scatter",
         "x": [
          6070
         ],
         "xaxis": "x",
         "y": [
          0
         ],
         "yaxis": "y"
        },
        {
         "hovertemplate": "Booster Version=F9 FT B1035.1<br>Payload Mass (kg)=%{x}<br>class=%{y}<extra></extra>",
         "legendgroup": "F9 FT B1035.1",
         "marker": {
          "color": "#B6E880",
          "symbol": "circle"
         },
         "mode": "markers",
         "name": "F9 FT B1035.1",
         "orientation": "v",
         "showlegend": true,
         "type": "scatter",
         "x": [
          2708
         ],
         "xaxis": "x",
         "y": [
          1
         ],
         "yaxis": "y"
        },
        {
         "hovertemplate": "Booster Version=F9 FT  B1029.2<br>Payload Mass (kg)=%{x}<br>class=%{y}<extra></extra>",
         "legendgroup": "F9 FT  B1029.2",
         "marker": {
          "color": "#FF97FF",
          "symbol": "circle"
         },
         "mode": "markers",
         "name": "F9 FT  B1029.2",
         "orientation": "v",
         "showlegend": true,
         "type": "scatter",
         "x": [
          3669
         ],
         "xaxis": "x",
         "y": [
          1
         ],
         "yaxis": "y"
        },
        {
         "hovertemplate": "Booster Version=F9 FT B1037<br>Payload Mass (kg)=%{x}<br>class=%{y}<extra></extra>",
         "legendgroup": "F9 FT B1037",
         "marker": {
          "color": "#FECB52",
          "symbol": "circle"
         },
         "mode": "markers",
         "name": "F9 FT B1037",
         "orientation": "v",
         "showlegend": true,
         "type": "scatter",
         "x": [
          6761
         ],
         "xaxis": "x",
         "y": [
          0
         ],
         "yaxis": "y"
        },
        {
         "hovertemplate": "Booster Version=F9 B4 B1039.1<br>Payload Mass (kg)=%{x}<br>class=%{y}<extra></extra>",
         "legendgroup": "F9 B4 B1039.1",
         "marker": {
          "color": "#636efa",
          "symbol": "circle"
         },
         "mode": "markers",
         "name": "F9 B4 B1039.1",
         "orientation": "v",
         "showlegend": true,
         "type": "scatter",
         "x": [
          3310
         ],
         "xaxis": "x",
         "y": [
          1
         ],
         "yaxis": "y"
        },
        {
         "hovertemplate": "Booster Version=F9 B4 B1040.1<br>Payload Mass (kg)=%{x}<br>class=%{y}<extra></extra>",
         "legendgroup": "F9 B4 B1040.1",
         "marker": {
          "color": "#EF553B",
          "symbol": "circle"
         },
         "mode": "markers",
         "name": "F9 B4 B1040.1",
         "orientation": "v",
         "showlegend": true,
         "type": "scatter",
         "x": [
          4990
         ],
         "xaxis": "x",
         "y": [
          1
         ],
         "yaxis": "y"
        },
        {
         "hovertemplate": "Booster Version=F9 FT  B1031.2<br>Payload Mass (kg)=%{x}<br>class=%{y}<extra></extra>",
         "legendgroup": "F9 FT  B1031.2",
         "marker": {
          "color": "#00cc96",
          "symbol": "circle"
         },
         "mode": "markers",
         "name": "F9 FT  B1031.2",
         "orientation": "v",
         "showlegend": true,
         "type": "scatter",
         "x": [
          5200
         ],
         "xaxis": "x",
         "y": [
          1
         ],
         "yaxis": "y"
        },
        {
         "hovertemplate": "Booster Version=F9 B4 B1042.1<br>Payload Mass (kg)=%{x}<br>class=%{y}<extra></extra>",
         "legendgroup": "F9 B4 B1042.1",
         "marker": {
          "color": "#ab63fa",
          "symbol": "circle"
         },
         "mode": "markers",
         "name": "F9 B4 B1042.1",
         "orientation": "v",
         "showlegend": true,
         "type": "scatter",
         "x": [
          3500
         ],
         "xaxis": "x",
         "y": [
          1
         ],
         "yaxis": "y"
        },
        {
         "hovertemplate": "Booster Version=F9 B5  B1046.1<br>Payload Mass (kg)=%{x}<br>class=%{y}<extra></extra>",
         "legendgroup": "F9 B5  B1046.1",
         "marker": {
          "color": "#FFA15A",
          "symbol": "circle"
         },
         "mode": "markers",
         "name": "F9 B5  B1046.1",
         "orientation": "v",
         "showlegend": true,
         "type": "scatter",
         "x": [
          3600
         ],
         "xaxis": "x",
         "y": [
          1
         ],
         "yaxis": "y"
        },
        {
         "hovertemplate": "Booster Version=F9 FT  B1035.2<br>Payload Mass (kg)=%{x}<br>class=%{y}<extra></extra>",
         "legendgroup": "F9 FT  B1035.2",
         "marker": {
          "color": "#19d3f3",
          "symbol": "circle"
         },
         "mode": "markers",
         "name": "F9 FT  B1035.2",
         "orientation": "v",
         "showlegend": true,
         "type": "scatter",
         "x": [
          2205
         ],
         "xaxis": "x",
         "y": [
          1
         ],
         "yaxis": "y"
        },
        {
         "hovertemplate": "Booster Version=F9 B4 B1043.1<br>Payload Mass (kg)=%{x}<br>class=%{y}<extra></extra>",
         "legendgroup": "F9 B4 B1043.1",
         "marker": {
          "color": "#FF6692",
          "symbol": "circle"
         },
         "mode": "markers",
         "name": "F9 B4 B1043.1",
         "orientation": "v",
         "showlegend": true,
         "type": "scatter",
         "x": [
          3696.65
         ],
         "xaxis": "x",
         "y": [
          1
         ],
         "yaxis": "y"
        },
        {
         "hovertemplate": "Booster Version=F9 FT  B1032.2<br>Payload Mass (kg)=%{x}<br>class=%{y}<extra></extra>",
         "legendgroup": "F9 FT  B1032.2",
         "marker": {
          "color": "#B6E880",
          "symbol": "circle"
         },
         "mode": "markers",
         "name": "F9 FT  B1032.2",
         "orientation": "v",
         "showlegend": true,
         "type": "scatter",
         "x": [
          4230
         ],
         "xaxis": "x",
         "y": [
          0
         ],
         "yaxis": "y"
        },
        {
         "hovertemplate": "Booster Version=F9 B4 B1044<br>Payload Mass (kg)=%{x}<br>class=%{y}<extra></extra>",
         "legendgroup": "F9 B4 B1044",
         "marker": {
          "color": "#FF97FF",
          "symbol": "circle"
         },
         "mode": "markers",
         "name": "F9 B4 B1044",
         "orientation": "v",
         "showlegend": true,
         "type": "scatter",
         "x": [
          6092
         ],
         "xaxis": "x",
         "y": [
          0
         ],
         "yaxis": "y"
        },
        {
         "hovertemplate": "Booster Version=F9 B4  B1039.2<br>Payload Mass (kg)=%{x}<br>class=%{y}<extra></extra>",
         "legendgroup": "F9 B4  B1039.2",
         "marker": {
          "color": "#FECB52",
          "symbol": "circle"
         },
         "mode": "markers",
         "name": "F9 B4  B1039.2",
         "orientation": "v",
         "showlegend": true,
         "type": "scatter",
         "x": [
          2647
         ],
         "xaxis": "x",
         "y": [
          0
         ],
         "yaxis": "y"
        },
        {
         "hovertemplate": "Booster Version=F9 B4 B1045.1<br>Payload Mass (kg)=%{x}<br>class=%{y}<extra></extra>",
         "legendgroup": "F9 B4 B1045.1",
         "marker": {
          "color": "#636efa",
          "symbol": "circle"
         },
         "mode": "markers",
         "name": "F9 B4 B1045.1",
         "orientation": "v",
         "showlegend": true,
         "type": "scatter",
         "x": [
          362
         ],
         "xaxis": "x",
         "y": [
          1
         ],
         "yaxis": "y"
        },
        {
         "hovertemplate": "Booster Version=F9 B4  B1040.2<br>Payload Mass (kg)=%{x}<br>class=%{y}<extra></extra>",
         "legendgroup": "F9 B4  B1040.2",
         "marker": {
          "color": "#EF553B",
          "symbol": "circle"
         },
         "mode": "markers",
         "name": "F9 B4  B1040.2",
         "orientation": "v",
         "showlegend": true,
         "type": "scatter",
         "x": [
          5384
         ],
         "xaxis": "x",
         "y": [
          0
         ],
         "yaxis": "y"
        }
       ],
       "layout": {
        "autosize": true,
        "legend": {
         "title": {
          "text": "Booster Version"
         },
         "tracegroupgap": 0
        },
        "template": {
         "data": {
          "bar": [
           {
            "error_x": {
             "color": "#2a3f5f"
            },
            "error_y": {
             "color": "#2a3f5f"
            },
            "marker": {
             "line": {
              "color": "#E5ECF6",
              "width": 0.5
             },
             "pattern": {
              "fillmode": "overlay",
              "size": 10,
              "solidity": 0.2
             }
            },
            "type": "bar"
           }
          ],
          "barpolar": [
           {
            "marker": {
             "line": {
              "color": "#E5ECF6",
              "width": 0.5
             },
             "pattern": {
              "fillmode": "overlay",
              "size": 10,
              "solidity": 0.2
             }
            },
            "type": "barpolar"
           }
          ],
          "carpet": [
           {
            "aaxis": {
             "endlinecolor": "#2a3f5f",
             "gridcolor": "white",
             "linecolor": "white",
             "minorgridcolor": "white",
             "startlinecolor": "#2a3f5f"
            },
            "baxis": {
             "endlinecolor": "#2a3f5f",
             "gridcolor": "white",
             "linecolor": "white",
             "minorgridcolor": "white",
             "startlinecolor": "#2a3f5f"
            },
            "type": "carpet"
           }
          ],
          "choropleth": [
           {
            "colorbar": {
             "outlinewidth": 0,
             "ticks": ""
            },
            "type": "choropleth"
           }
          ],
          "contour": [
           {
            "colorbar": {
             "outlinewidth": 0,
             "ticks": ""
            },
            "colorscale": [
             [
              0,
              "#0d0887"
             ],
             [
              0.1111111111111111,
              "#46039f"
             ],
             [
              0.2222222222222222,
              "#7201a8"
             ],
             [
              0.3333333333333333,
              "#9c179e"
             ],
             [
              0.4444444444444444,
              "#bd3786"
             ],
             [
              0.5555555555555556,
              "#d8576b"
             ],
             [
              0.6666666666666666,
              "#ed7953"
             ],
             [
              0.7777777777777778,
              "#fb9f3a"
             ],
             [
              0.8888888888888888,
              "#fdca26"
             ],
             [
              1,
              "#f0f921"
             ]
            ],
            "type": "contour"
           }
          ],
          "contourcarpet": [
           {
            "colorbar": {
             "outlinewidth": 0,
             "ticks": ""
            },
            "type": "contourcarpet"
           }
          ],
          "heatmap": [
           {
            "colorbar": {
             "outlinewidth": 0,
             "ticks": ""
            },
            "colorscale": [
             [
              0,
              "#0d0887"
             ],
             [
              0.1111111111111111,
              "#46039f"
             ],
             [
              0.2222222222222222,
              "#7201a8"
             ],
             [
              0.3333333333333333,
              "#9c179e"
             ],
             [
              0.4444444444444444,
              "#bd3786"
             ],
             [
              0.5555555555555556,
              "#d8576b"
             ],
             [
              0.6666666666666666,
              "#ed7953"
             ],
             [
              0.7777777777777778,
              "#fb9f3a"
             ],
             [
              0.8888888888888888,
              "#fdca26"
             ],
             [
              1,
              "#f0f921"
             ]
            ],
            "type": "heatmap"
           }
          ],
          "heatmapgl": [
           {
            "colorbar": {
             "outlinewidth": 0,
             "ticks": ""
            },
            "colorscale": [
             [
              0,
              "#0d0887"
             ],
             [
              0.1111111111111111,
              "#46039f"
             ],
             [
              0.2222222222222222,
              "#7201a8"
             ],
             [
              0.3333333333333333,
              "#9c179e"
             ],
             [
              0.4444444444444444,
              "#bd3786"
             ],
             [
              0.5555555555555556,
              "#d8576b"
             ],
             [
              0.6666666666666666,
              "#ed7953"
             ],
             [
              0.7777777777777778,
              "#fb9f3a"
             ],
             [
              0.8888888888888888,
              "#fdca26"
             ],
             [
              1,
              "#f0f921"
             ]
            ],
            "type": "heatmapgl"
           }
          ],
          "histogram": [
           {
            "marker": {
             "pattern": {
              "fillmode": "overlay",
              "size": 10,
              "solidity": 0.2
             }
            },
            "type": "histogram"
           }
          ],
          "histogram2d": [
           {
            "colorbar": {
             "outlinewidth": 0,
             "ticks": ""
            },
            "colorscale": [
             [
              0,
              "#0d0887"
             ],
             [
              0.1111111111111111,
              "#46039f"
             ],
             [
              0.2222222222222222,
              "#7201a8"
             ],
             [
              0.3333333333333333,
              "#9c179e"
             ],
             [
              0.4444444444444444,
              "#bd3786"
             ],
             [
              0.5555555555555556,
              "#d8576b"
             ],
             [
              0.6666666666666666,
              "#ed7953"
             ],
             [
              0.7777777777777778,
              "#fb9f3a"
             ],
             [
              0.8888888888888888,
              "#fdca26"
             ],
             [
              1,
              "#f0f921"
             ]
            ],
            "type": "histogram2d"
           }
          ],
          "histogram2dcontour": [
           {
            "colorbar": {
             "outlinewidth": 0,
             "ticks": ""
            },
            "colorscale": [
             [
              0,
              "#0d0887"
             ],
             [
              0.1111111111111111,
              "#46039f"
             ],
             [
              0.2222222222222222,
              "#7201a8"
             ],
             [
              0.3333333333333333,
              "#9c179e"
             ],
             [
              0.4444444444444444,
              "#bd3786"
             ],
             [
              0.5555555555555556,
              "#d8576b"
             ],
             [
              0.6666666666666666,
              "#ed7953"
             ],
             [
              0.7777777777777778,
              "#fb9f3a"
             ],
             [
              0.8888888888888888,
              "#fdca26"
             ],
             [
              1,
              "#f0f921"
             ]
            ],
            "type": "histogram2dcontour"
           }
          ],
          "mesh3d": [
           {
            "colorbar": {
             "outlinewidth": 0,
             "ticks": ""
            },
            "type": "mesh3d"
           }
          ],
          "parcoords": [
           {
            "line": {
             "colorbar": {
              "outlinewidth": 0,
              "ticks": ""
             }
            },
            "type": "parcoords"
           }
          ],
          "pie": [
           {
            "automargin": true,
            "type": "pie"
           }
          ],
          "scatter": [
           {
            "fillpattern": {
             "fillmode": "overlay",
             "size": 10,
             "solidity": 0.2
            },
            "type": "scatter"
           }
          ],
          "scatter3d": [
           {
            "line": {
             "colorbar": {
              "outlinewidth": 0,
              "ticks": ""
             }
            },
            "marker": {
             "colorbar": {
              "outlinewidth": 0,
              "ticks": ""
             }
            },
            "type": "scatter3d"
           }
          ],
          "scattercarpet": [
           {
            "marker": {
             "colorbar": {
              "outlinewidth": 0,
              "ticks": ""
             }
            },
            "type": "scattercarpet"
           }
          ],
          "scattergeo": [
           {
            "marker": {
             "colorbar": {
              "outlinewidth": 0,
              "ticks": ""
             }
            },
            "type": "scattergeo"
           }
          ],
          "scattergl": [
           {
            "marker": {
             "colorbar": {
              "outlinewidth": 0,
              "ticks": ""
             }
            },
            "type": "scattergl"
           }
          ],
          "scattermapbox": [
           {
            "marker": {
             "colorbar": {
              "outlinewidth": 0,
              "ticks": ""
             }
            },
            "type": "scattermapbox"
           }
          ],
          "scatterpolar": [
           {
            "marker": {
             "colorbar": {
              "outlinewidth": 0,
              "ticks": ""
             }
            },
            "type": "scatterpolar"
           }
          ],
          "scatterpolargl": [
           {
            "marker": {
             "colorbar": {
              "outlinewidth": 0,
              "ticks": ""
             }
            },
            "type": "scatterpolargl"
           }
          ],
          "scatterternary": [
           {
            "marker": {
             "colorbar": {
              "outlinewidth": 0,
              "ticks": ""
             }
            },
            "type": "scatterternary"
           }
          ],
          "surface": [
           {
            "colorbar": {
             "outlinewidth": 0,
             "ticks": ""
            },
            "colorscale": [
             [
              0,
              "#0d0887"
             ],
             [
              0.1111111111111111,
              "#46039f"
             ],
             [
              0.2222222222222222,
              "#7201a8"
             ],
             [
              0.3333333333333333,
              "#9c179e"
             ],
             [
              0.4444444444444444,
              "#bd3786"
             ],
             [
              0.5555555555555556,
              "#d8576b"
             ],
             [
              0.6666666666666666,
              "#ed7953"
             ],
             [
              0.7777777777777778,
              "#fb9f3a"
             ],
             [
              0.8888888888888888,
              "#fdca26"
             ],
             [
              1,
              "#f0f921"
             ]
            ],
            "type": "surface"
           }
          ],
          "table": [
           {
            "cells": {
             "fill": {
              "color": "#EBF0F8"
             },
             "line": {
              "color": "white"
             }
            },
            "header": {
             "fill": {
              "color": "#C8D4E3"
             },
             "line": {
              "color": "white"
             }
            },
            "type": "table"
           }
          ]
         },
         "layout": {
          "annotationdefaults": {
           "arrowcolor": "#2a3f5f",
           "arrowhead": 0,
           "arrowwidth": 1
          },
          "autotypenumbers": "strict",
          "coloraxis": {
           "colorbar": {
            "outlinewidth": 0,
            "ticks": ""
           }
          },
          "colorscale": {
           "diverging": [
            [
             0,
             "#8e0152"
            ],
            [
             0.1,
             "#c51b7d"
            ],
            [
             0.2,
             "#de77ae"
            ],
            [
             0.3,
             "#f1b6da"
            ],
            [
             0.4,
             "#fde0ef"
            ],
            [
             0.5,
             "#f7f7f7"
            ],
            [
             0.6,
             "#e6f5d0"
            ],
            [
             0.7,
             "#b8e186"
            ],
            [
             0.8,
             "#7fbc41"
            ],
            [
             0.9,
             "#4d9221"
            ],
            [
             1,
             "#276419"
            ]
           ],
           "sequential": [
            [
             0,
             "#0d0887"
            ],
            [
             0.1111111111111111,
             "#46039f"
            ],
            [
             0.2222222222222222,
             "#7201a8"
            ],
            [
             0.3333333333333333,
             "#9c179e"
            ],
            [
             0.4444444444444444,
             "#bd3786"
            ],
            [
             0.5555555555555556,
             "#d8576b"
            ],
            [
             0.6666666666666666,
             "#ed7953"
            ],
            [
             0.7777777777777778,
             "#fb9f3a"
            ],
            [
             0.8888888888888888,
             "#fdca26"
            ],
            [
             1,
             "#f0f921"
            ]
           ],
           "sequentialminus": [
            [
             0,
             "#0d0887"
            ],
            [
             0.1111111111111111,
             "#46039f"
            ],
            [
             0.2222222222222222,
             "#7201a8"
            ],
            [
             0.3333333333333333,
             "#9c179e"
            ],
            [
             0.4444444444444444,
             "#bd3786"
            ],
            [
             0.5555555555555556,
             "#d8576b"
            ],
            [
             0.6666666666666666,
             "#ed7953"
            ],
            [
             0.7777777777777778,
             "#fb9f3a"
            ],
            [
             0.8888888888888888,
             "#fdca26"
            ],
            [
             1,
             "#f0f921"
            ]
           ]
          },
          "colorway": [
           "#636efa",
           "#EF553B",
           "#00cc96",
           "#ab63fa",
           "#FFA15A",
           "#19d3f3",
           "#FF6692",
           "#B6E880",
           "#FF97FF",
           "#FECB52"
          ],
          "font": {
           "color": "#2a3f5f"
          },
          "geo": {
           "bgcolor": "white",
           "lakecolor": "white",
           "landcolor": "#E5ECF6",
           "showlakes": true,
           "showland": true,
           "subunitcolor": "white"
          },
          "hoverlabel": {
           "align": "left"
          },
          "hovermode": "closest",
          "mapbox": {
           "style": "light"
          },
          "paper_bgcolor": "white",
          "plot_bgcolor": "#E5ECF6",
          "polar": {
           "angularaxis": {
            "gridcolor": "white",
            "linecolor": "white",
            "ticks": ""
           },
           "bgcolor": "#E5ECF6",
           "radialaxis": {
            "gridcolor": "white",
            "linecolor": "white",
            "ticks": ""
           }
          },
          "scene": {
           "xaxis": {
            "backgroundcolor": "#E5ECF6",
            "gridcolor": "white",
            "gridwidth": 2,
            "linecolor": "white",
            "showbackground": true,
            "ticks": "",
            "zerolinecolor": "white"
           },
           "yaxis": {
            "backgroundcolor": "#E5ECF6",
            "gridcolor": "white",
            "gridwidth": 2,
            "linecolor": "white",
            "showbackground": true,
            "ticks": "",
            "zerolinecolor": "white"
           },
           "zaxis": {
            "backgroundcolor": "#E5ECF6",
            "gridcolor": "white",
            "gridwidth": 2,
            "linecolor": "white",
            "showbackground": true,
            "ticks": "",
            "zerolinecolor": "white"
           }
          },
          "shapedefaults": {
           "line": {
            "color": "#2a3f5f"
           }
          },
          "ternary": {
           "aaxis": {
            "gridcolor": "white",
            "linecolor": "white",
            "ticks": ""
           },
           "baxis": {
            "gridcolor": "white",
            "linecolor": "white",
            "ticks": ""
           },
           "bgcolor": "#E5ECF6",
           "caxis": {
            "gridcolor": "white",
            "linecolor": "white",
            "ticks": ""
           }
          },
          "title": {
           "x": 0.05
          },
          "xaxis": {
           "automargin": true,
           "gridcolor": "white",
           "linecolor": "white",
           "ticks": "",
           "title": {
            "standoff": 15
           },
           "zerolinecolor": "white",
           "zerolinewidth": 2
          },
          "yaxis": {
           "automargin": true,
           "gridcolor": "white",
           "linecolor": "white",
           "ticks": "",
           "title": {
            "standoff": 15
           },
           "zerolinecolor": "white",
           "zerolinewidth": 2
          }
         }
        },
        "title": {
         "text": "How Payload Affects Success"
        },
        "xaxis": {
         "anchor": "y",
         "autorange": true,
         "domain": [
          0,
          1
         ],
         "range": [
          -599.701343952215,
          10199.701343952214
         ],
         "title": {
          "text": "Payload Mass (kg)"
         },
         "type": "linear"
        },
        "yaxis": {
         "anchor": "x",
         "autorange": true,
         "domain": [
          0,
          1
         ],
         "range": [
          -0.0825242718446602,
          1.0825242718446602
         ],
         "title": {
          "text": "class"
         },
         "type": "linear"
        }
       }
      },
      "image/png": "[encoded data removed]",
      "text/html": [
       "<div>                            <div id=\"fbba875f-4a68-44e0-bbe8-da98e83a0aba\" class=\"plotly-graph-div\" style=\"height:525px; width:100%;\"></div>            <script type=\"text/javascript\">                require([\"plotly\"], function(Plotly) {                    window.PLOTLYENV=window.PLOTLYENV || {};                                    if (document.getElementById(\"fbba875f-4a68-44e0-bbe8-da98e83a0aba\")) {                    Plotly.newPlot(                        \"fbba875f-4a68-44e0-bbe8-da98e83a0aba\",                        [{\"hovertemplate\":\"Booster Version=F9 v1.0  B0003\\u003cbr\\u003ePayload Mass (kg)=%{x}\\u003cbr\\u003eclass=%{y}\\u003cextra\\u003e\\u003c\\u002fextra\\u003e\",\"legendgroup\":\"F9 v1.0  B0003\",\"marker\":{\"color\":\"#636efa\",\"symbol\":\"circle\"},\"mode\":\"markers\",\"name\":\"F9 v1.0  B0003\",\"orientation\":\"v\",\"showlegend\":true,\"x\":[0.0],\"xaxis\":\"x\",\"y\":[0],\"yaxis\":\"y\",\"type\":\"scatter\"},{\"hovertemplate\":\"Booster Version=F9 v1.0  B0004\\u003cbr\\u003ePayload Mass (kg)=%{x}\\u003cbr\\u003eclass=%{y}\\u003cextra\\u003e\\u003c\\u002fextra\\u003e\",\"legendgroup\":\"F9 v1.0  B0004\",\"marker\":{\"color\":\"#EF553B\",\"symbol\":\"circle\"},\"mode\":\"markers\",\"name\":\"F9 v1.0  B0004\",\"orientation\":\"v\",\"showlegend\":true,\"x\":[0.0],\"xaxis\":\"x\",\"y\":[0],\"yaxis\":\"y\",\"type\":\"scatter\"},{\"hovertemplate\":\"Booster Version=F9 v1.0  B0005\\u003cbr\\u003ePayload Mass (kg)=%{x}\\u003cbr\\u003eclass=%{y}\\u003cextra\\u003e\\u003c\\u002fextra\\u003e\",\"legendgroup\":\"F9 v1.0  B0005\",\"marker\":{\"color\":\"#00cc96\",\"symbol\":\"circle\"},\"mode\":\"markers\",\"name\":\"F9 v1.0  B0005\",\"orientation\":\"v\",\"showlegend\":true,\"x\":[525.0],\"xaxis\":\"x\",\"y\":[0],\"yaxis\":\"y\",\"type\":\"scatter\"},{\"hovertemplate\":\"Booster Version=F9 v1.0  B0006\\u003cbr\\u003ePayload Mass (kg)=%{x}\\u003cbr\\u003eclass=%{y}\\u003cextra\\u003e\\u003c\\u002fextra\\u003e\",\"legendgroup\":\"F9 v1.0  B0006\",\"marker\":{\"color\":\"#ab63fa\",\"symbol\":\"circle\"},\"mode\":\"markers\",\"name\":\"F9 v1.0  B0006\",\"orientation\":\"v\",\"showlegend\":true,\"x\":[500.0],\"xaxis\":\"x\",\"y\":[0],\"yaxis\":\"y\",\"type\":\"scatter\"},{\"hovertemplate\":\"Booster Version=F9 v1.0  B0007\\u003cbr\\u003ePayload Mass (kg)=%{x}\\u003cbr\\u003eclass=%{y}\\u003cextra\\u003e\\u003c\\u002fextra\\u003e\",\"legendgroup\":\"F9 v1.0  B0007\",\"marker\":{\"color\":\"#FFA15A\",\"symbol\":\"circle\"},\"mode\":\"markers\",\"name\":\"F9 v1.0  B0007\",\"orientation\":\"v\",\"showlegend\":true,\"x\":[677.0],\"xaxis\":\"x\",\"y\":[0],\"yaxis\":\"y\",\"type\":\"scatter\"},{\"hovertemplate\":\"Booster Version=F9 v1.1\\u003cbr\\u003ePayload Mass (kg)=%{x}\\u003cbr\\u003eclass=%{y}\\u003cextra\\u003e\\u003c\\u002fextra\\u003e\",\"legendgroup\":\"F9 v1.1\",\"marker\":{\"color\":\"#19d3f3\",\"symbol\":\"circle\"},\"mode\":\"markers\",\"name\":\"F9 v1.1\",\"orientation\":\"v\",\"showlegend\":true,\"x\":[3170.0,3325.0,2296.0,1316.0,4535.0],\"xaxis\":\"x\",\"y\":[0,0,0,0,0],\"yaxis\":\"y\",\"type\":\"scatter\"},{\"hovertemplate\":\"Booster Version=F9 v1.1 B1011\\u003cbr\\u003ePayload Mass (kg)=%{x}\\u003cbr\\u003eclass=%{y}\\u003cextra\\u003e\\u003c\\u002fextra\\u003e\",\"legendgroup\":\"F9 v1.1 B1011\",\"marker\":{\"color\":\"#FF6692\",\"symbol\":\"circle\"},\"mode\":\"markers\",\"name\":\"F9 v1.1 B1011\",\"orientation\":\"v\",\"showlegend\":true,\"x\":[4428.0],\"xaxis\":\"x\",\"y\":[0],\"yaxis\":\"y\",\"type\":\"scatter\"},{\"hovertemplate\":\"Booster Version=F9 v1.1 B1010\\u003cbr\\u003ePayload Mass (kg)=%{x}\\u003cbr\\u003eclass=%{y}\\u003cextra\\u003e\\u003c\\u002fextra\\u003e\",\"legendgroup\":\"F9 v1.1 B1010\",\"marker\":{\"color\":\"#B6E880\",\"symbol\":\"circle\"},\"mode\":\"markers\",\"name\":\"F9 v1.1 B1010\",\"orientation\":\"v\",\"showlegend\":true,\"x\":[2216.0],\"xaxis\":\"x\",\"y\":[0],\"yaxis\":\"y\",\"type\":\"scatter\"},{\"hovertemplate\":\"Booster Version=F9 v1.1 B1012\\u003cbr\\u003ePayload Mass (kg)=%{x}\\u003cbr\\u003eclass=%{y}\\u003cextra\\u003e\\u003c\\u002fextra\\u003e\",\"legendgroup\":\"F9 v1.1 B1012\",\"marker\":{\"color\":\"#FF97FF\",\"symbol\":\"circle\"},\"mode\":\"markers\",\"name\":\"F9 v1.1 B1012\",\"orientation\":\"v\",\"showlegend\":true,\"x\":[2395.0],\"xaxis\":\"x\",\"y\":[0],\"yaxis\":\"y\",\"type\":\"scatter\"},{\"hovertemplate\":\"Booster Version=F9 v1.1 B1013\\u003cbr\\u003ePayload Mass (kg)=%{x}\\u003cbr\\u003eclass=%{y}\\u003cextra\\u003e\\u003c\\u002fextra\\u003e\",\"legendgroup\":\"F9 v1.1 B1013\",\"marker\":{\"color\":\"#FECB52\",\"symbol\":\"circle\"},\"mode\":\"markers\",\"name\":\"F9 v1.1 B1013\",\"orientation\":\"v\",\"showlegend\":true,\"x\":[570.0],\"xaxis\":\"x\",\"y\":[0],\"yaxis\":\"y\",\"type\":\"scatter\"},{\"hovertemplate\":\"Booster Version=F9 v1.1 B1014\\u003cbr\\u003ePayload Mass (kg)=%{x}\\u003cbr\\u003eclass=%{y}\\u003cextra\\u003e\\u003c\\u002fextra\\u003e\",\"legendgroup\":\"F9 v1.1 B1014\",\"marker\":{\"color\":\"#636efa\",\"symbol\":\"circle\"},\"mode\":\"markers\",\"name\":\"F9 v1.1 B1014\",\"orientation\":\"v\",\"showlegend\":true,\"x\":[4159.0],\"xaxis\":\"x\",\"y\":[0],\"yaxis\":\"y\",\"type\":\"scatter\"},{\"hovertemplate\":\"Booster Version=F9 v1.1 B1015\\u003cbr\\u003ePayload Mass (kg)=%{x}\\u003cbr\\u003eclass=%{y}\\u003cextra\\u003e\\u003c\\u002fextra\\u003e\",\"legendgroup\":\"F9 v1.1 B1015\",\"marker\":{\"color\":\"#EF553B\",\"symbol\":\"circle\"},\"mode\":\"markers\",\"name\":\"F9 v1.1 B1015\",\"orientation\":\"v\",\"showlegend\":true,\"x\":[1898.0],\"xaxis\":\"x\",\"y\":[0],\"yaxis\":\"y\",\"type\":\"scatter\"},{\"hovertemplate\":\"Booster Version=F9 v1.1 B1016\\u003cbr\\u003ePayload Mass (kg)=%{x}\\u003cbr\\u003eclass=%{y}\\u003cextra\\u003e\\u003c\\u002fextra\\u003e\",\"legendgroup\":\"F9 v1.1 B1016\",\"marker\":{\"color\":\"#00cc96\",\"symbol\":\"circle\"},\"mode\":\"markers\",\"name\":\"F9 v1.1 B1016\",\"orientation\":\"v\",\"showlegend\":true,\"x\":[4707.0],\"xaxis\":\"x\",\"y\":[0],\"yaxis\":\"y\",\"type\":\"scatter\"},{\"hovertemplate\":\"Booster Version=F9 v1.1 B1018\\u003cbr\\u003ePayload Mass (kg)=%{x}\\u003cbr\\u003eclass=%{y}\\u003cextra\\u003e\\u003c\\u002fextra\\u003e\",\"legendgroup\":\"F9 v1.1 B1018\",\"marker\":{\"color\":\"#ab63fa\",\"symbol\":\"circle\"},\"mode\":\"markers\",\"name\":\"F9 v1.1 B1018\",\"orientation\":\"v\",\"showlegend\":true,\"x\":[1952.0],\"xaxis\":\"x\",\"y\":[1],\"yaxis\":\"y\",\"type\":\"scatter\"},{\"hovertemplate\":\"Booster Version=F9 FT B1019\\u003cbr\\u003ePayload Mass (kg)=%{x}\\u003cbr\\u003eclass=%{y}\\u003cextra\\u003e\\u003c\\u002fextra\\u003e\",\"legendgroup\":\"F9 FT B1019\",\"marker\":{\"color\":\"#FFA15A\",\"symbol\":\"circle\"},\"mode\":\"markers\",\"name\":\"F9 FT B1019\",\"orientation\":\"v\",\"showlegend\":true,\"x\":[2034.0],\"xaxis\":\"x\",\"y\":[1],\"yaxis\":\"y\",\"type\":\"scatter\"},{\"hovertemplate\":\"Booster Version=F9 FT B1020\\u003cbr\\u003ePayload Mass (kg)=%{x}\\u003cbr\\u003eclass=%{y}\\u003cextra\\u003e\\u003c\\u002fextra\\u003e\",\"legendgroup\":\"F9 FT B1020\",\"marker\":{\"color\":\"#19d3f3\",\"symbol\":\"circle\"},\"mode\":\"markers\",\"name\":\"F9 FT B1020\",\"orientation\":\"v\",\"showlegend\":true,\"x\":[5271.0],\"xaxis\":\"x\",\"y\":[0],\"yaxis\":\"y\",\"type\":\"scatter\"},{\"hovertemplate\":\"Booster Version=F9 FT B1021.1\\u003cbr\\u003ePayload Mass (kg)=%{x}\\u003cbr\\u003eclass=%{y}\\u003cextra\\u003e\\u003c\\u002fextra\\u003e\",\"legendgroup\":\"F9 FT B1021.1\",\"marker\":{\"color\":\"#FF6692\",\"symbol\":\"circle\"},\"mode\":\"markers\",\"name\":\"F9 FT B1021.1\",\"orientation\":\"v\",\"showlegend\":true,\"x\":[3136.0],\"xaxis\":\"x\",\"y\":[1],\"yaxis\":\"y\",\"type\":\"scatter\"},{\"hovertemplate\":\"Booster Version=F9 FT B1022\\u003cbr\\u003ePayload Mass (kg)=%{x}\\u003cbr\\u003eclass=%{y}\\u003cextra\\u003e\\u003c\\u002fextra\\u003e\",\"legendgroup\":\"F9 FT B1022\",\"marker\":{\"color\":\"#B6E880\",\"symbol\":\"circle\"},\"mode\":\"markers\",\"name\":\"F9 FT B1022\",\"orientation\":\"v\",\"showlegend\":true,\"x\":[4696.0],\"xaxis\":\"x\",\"y\":[1],\"yaxis\":\"y\",\"type\":\"scatter\"},{\"hovertemplate\":\"Booster Version=F9 FT B1023.1\\u003cbr\\u003ePayload Mass (kg)=%{x}\\u003cbr\\u003eclass=%{y}\\u003cextra\\u003e\\u003c\\u002fextra\\u003e\",\"legendgroup\":\"F9 FT B1023.1\",\"marker\":{\"color\":\"#FF97FF\",\"symbol\":\"circle\"},\"mode\":\"markers\",\"name\":\"F9 FT B1023.1\",\"orientation\":\"v\",\"showlegend\":true,\"x\":[3100.0],\"xaxis\":\"x\",\"y\":[1],\"yaxis\":\"y\",\"type\":\"scatter\"},{\"hovertemplate\":\"Booster Version=F9 FT B1024\\u003cbr\\u003ePayload Mass (kg)=%{x}\\u003cbr\\u003eclass=%{y}\\u003cextra\\u003e\\u003c\\u002fextra\\u003e\",\"legendgroup\":\"F9 FT B1024\",\"marker\":{\"color\":\"#FECB52\",\"symbol\":\"circle\"},\"mode\":\"markers\",\"name\":\"F9 FT B1024\",\"orientation\":\"v\",\"showlegend\":true,\"x\":[3600.0],\"xaxis\":\"x\",\"y\":[0],\"yaxis\":\"y\",\"type\":\"scatter\"},{\"hovertemplate\":\"Booster Version=F9 FT B1025.1\\u003cbr\\u003ePayload Mass (kg)=%{x}\\u003cbr\\u003eclass=%{y}\\u003cextra\\u003e\\u003c\\u002fextra\\u003e\",\"legendgroup\":\"F9 FT B1025.1\",\"marker\":{\"color\":\"#636efa\",\"symbol\":\"circle\"},\"mode\":\"markers\",\"name\":\"F9 FT B1025.1\",\"orientation\":\"v\",\"showlegend\":true,\"x\":[2257.0],\"xaxis\":\"x\",\"y\":[1],\"yaxis\":\"y\",\"type\":\"scatter\"},{\"hovertemplate\":\"Booster Version=F9 FT B1026\\u003cbr\\u003ePayload Mass (kg)=%{x}\\u003cbr\\u003eclass=%{y}\\u003cextra\\u003e\\u003c\\u002fextra\\u003e\",\"legendgroup\":\"F9 FT B1026\",\"marker\":{\"color\":\"#EF553B\",\"symbol\":\"circle\"},\"mode\":\"markers\",\"name\":\"F9 FT B1026\",\"orientation\":\"v\",\"showlegend\":true,\"x\":[4600.0],\"xaxis\":\"x\",\"y\":[1],\"yaxis\":\"y\",\"type\":\"scatter\"},{\"hovertemplate\":\"Booster Version=F9 v1.1  B1003\\u003cbr\\u003ePayload Mass (kg)=%{x}\\u003cbr\\u003eclass=%{y}\\u003cextra\\u003e\\u003c\\u002fextra\\u003e\",\"legendgroup\":\"F9 v1.1  B1003\",\"marker\":{\"color\":\"#00cc96\",\"symbol\":\"circle\"},\"mode\":\"markers\",\"name\":\"F9 v1.1  B1003\",\"orientation\":\"v\",\"showlegend\":true,\"x\":[500.0],\"xaxis\":\"x\",\"y\":[0],\"yaxis\":\"y\",\"type\":\"scatter\"},{\"hovertemplate\":\"Booster Version=F9 v1.1 B1017\\u003cbr\\u003ePayload Mass (kg)=%{x}\\u003cbr\\u003eclass=%{y}\\u003cextra\\u003e\\u003c\\u002fextra\\u003e\",\"legendgroup\":\"F9 v1.1 B1017\",\"marker\":{\"color\":\"#ab63fa\",\"symbol\":\"circle\"},\"mode\":\"markers\",\"name\":\"F9 v1.1 B1017\",\"orientation\":\"v\",\"showlegend\":true,\"x\":[553.0],\"xaxis\":\"x\",\"y\":[0],\"yaxis\":\"y\",\"type\":\"scatter\"},{\"hovertemplate\":\"Booster Version=F9 FT B1029.1\\u003cbr\\u003ePayload Mass (kg)=%{x}\\u003cbr\\u003eclass=%{y}\\u003cextra\\u003e\\u003c\\u002fextra\\u003e\",\"legendgroup\":\"F9 FT B1029.1\",\"marker\":{\"color\":\"#FFA15A\",\"symbol\":\"circle\"},\"mode\":\"markers\",\"name\":\"F9 FT B1029.1\",\"orientation\":\"v\",\"showlegend\":true,\"x\":[9600.0],\"xaxis\":\"x\",\"y\":[1],\"yaxis\":\"y\",\"type\":\"scatter\"},{\"hovertemplate\":\"Booster Version=F9 FT B1036.1\\u003cbr\\u003ePayload Mass (kg)=%{x}\\u003cbr\\u003eclass=%{y}\\u003cextra\\u003e\\u003c\\u002fextra\\u003e\",\"legendgroup\":\"F9 FT B1036.1\",\"marker\":{\"color\":\"#19d3f3\",\"symbol\":\"circle\"},\"mode\":\"markers\",\"name\":\"F9 FT B1036.1\",\"orientation\":\"v\",\"showlegend\":true,\"x\":[9600.0],\"xaxis\":\"x\",\"y\":[1],\"yaxis\":\"y\",\"type\":\"scatter\"},{\"hovertemplate\":\"Booster Version=F9 FT B1038.1\\u003cbr\\u003ePayload Mass (kg)=%{x}\\u003cbr\\u003eclass=%{y}\\u003cextra\\u003e\\u003c\\u002fextra\\u003e\",\"legendgroup\":\"F9 FT B1038.1\",\"marker\":{\"color\":\"#FF6692\",\"symbol\":\"circle\"},\"mode\":\"markers\",\"name\":\"F9 FT B1038.1\",\"orientation\":\"v\",\"showlegend\":true,\"x\":[475.0],\"xaxis\":\"x\",\"y\":[1],\"yaxis\":\"y\",\"type\":\"scatter\"},{\"hovertemplate\":\"Booster Version=F9 B4 B1041.1\\u003cbr\\u003ePayload Mass (kg)=%{x}\\u003cbr\\u003eclass=%{y}\\u003cextra\\u003e\\u003c\\u002fextra\\u003e\",\"legendgroup\":\"F9 B4 B1041.1\",\"marker\":{\"color\":\"#B6E880\",\"symbol\":\"circle\"},\"mode\":\"markers\",\"name\":\"F9 B4 B1041.1\",\"orientation\":\"v\",\"showlegend\":true,\"x\":[9600.0],\"xaxis\":\"x\",\"y\":[1],\"yaxis\":\"y\",\"type\":\"scatter\"},{\"hovertemplate\":\"Booster Version=F9 FT  B1036.2\\u003cbr\\u003ePayload Mass (kg)=%{x}\\u003cbr\\u003eclass=%{y}\\u003cextra\\u003e\\u003c\\u002fextra\\u003e\",\"legendgroup\":\"F9 FT  B1036.2\",\"marker\":{\"color\":\"#FF97FF\",\"symbol\":\"circle\"},\"mode\":\"markers\",\"name\":\"F9 FT  B1036.2\",\"orientation\":\"v\",\"showlegend\":true,\"x\":[9600.0],\"xaxis\":\"x\",\"y\":[0],\"yaxis\":\"y\",\"type\":\"scatter\"},{\"hovertemplate\":\"Booster Version=F9 FT  B1038.2\\u003cbr\\u003ePayload Mass (kg)=%{x}\\u003cbr\\u003eclass=%{y}\\u003cextra\\u003e\\u003c\\u002fextra\\u003e\",\"legendgroup\":\"F9 FT  B1038.2\",\"marker\":{\"color\":\"#FECB52\",\"symbol\":\"circle\"},\"mode\":\"markers\",\"name\":\"F9 FT  B1038.2\",\"orientation\":\"v\",\"showlegend\":true,\"x\":[2150.0],\"xaxis\":\"x\",\"y\":[0],\"yaxis\":\"y\",\"type\":\"scatter\"},{\"hovertemplate\":\"Booster Version=F9 B4  B1041.2\\u003cbr\\u003ePayload Mass (kg)=%{x}\\u003cbr\\u003eclass=%{y}\\u003cextra\\u003e\\u003c\\u002fextra\\u003e\",\"legendgroup\":\"F9 B4  B1041.2\",\"marker\":{\"color\":\"#636efa\",\"symbol\":\"circle\"},\"mode\":\"markers\",\"name\":\"F9 B4  B1041.2\",\"orientation\":\"v\",\"showlegend\":true,\"x\":[9600.0],\"xaxis\":\"x\",\"y\":[0],\"yaxis\":\"y\",\"type\":\"scatter\"},{\"hovertemplate\":\"Booster Version=F9 B4  B1043.2\\u003cbr\\u003ePayload Mass (kg)=%{x}\\u003cbr\\u003eclass=%{y}\\u003cextra\\u003e\\u003c\\u002fextra\\u003e\",\"legendgroup\":\"F9 B4  B1043.2\",\"marker\":{\"color\":\"#EF553B\",\"symbol\":\"circle\"},\"mode\":\"markers\",\"name\":\"F9 B4  B1043.2\",\"orientation\":\"v\",\"showlegend\":true,\"x\":[6460.0],\"xaxis\":\"x\",\"y\":[0],\"yaxis\":\"y\",\"type\":\"scatter\"},{\"hovertemplate\":\"Booster Version=F9 FT B1031.1\\u003cbr\\u003ePayload Mass (kg)=%{x}\\u003cbr\\u003eclass=%{y}\\u003cextra\\u003e\\u003c\\u002fextra\\u003e\",\"legendgroup\":\"F9 FT B1031.1\",\"marker\":{\"color\":\"#00cc96\",\"symbol\":\"circle\"},\"mode\":\"markers\",\"name\":\"F9 FT B1031.1\",\"orientation\":\"v\",\"showlegend\":true,\"x\":[2490.0],\"xaxis\":\"x\",\"y\":[1],\"yaxis\":\"y\",\"type\":\"scatter\"},{\"hovertemplate\":\"Booster Version=F9 FT B1030\\u003cbr\\u003ePayload Mass (kg)=%{x}\\u003cbr\\u003eclass=%{y}\\u003cextra\\u003e\\u003c\\u002fextra\\u003e\",\"legendgroup\":\"F9 FT B1030\",\"marker\":{\"color\":\"#ab63fa\",\"symbol\":\"circle\"},\"mode\":\"markers\",\"name\":\"F9 FT B1030\",\"orientation\":\"v\",\"showlegend\":true,\"x\":[5600.0],\"xaxis\":\"x\",\"y\":[0],\"yaxis\":\"y\",\"type\":\"scatter\"},{\"hovertemplate\":\"Booster Version=F9 FT  B1021.2\\u003cbr\\u003ePayload Mass (kg)=%{x}\\u003cbr\\u003eclass=%{y}\\u003cextra\\u003e\\u003c\\u002fextra\\u003e\",\"legendgroup\":\"F9 FT  B1021.2\",\"marker\":{\"color\":\"#FFA15A\",\"symbol\":\"circle\"},\"mode\":\"markers\",\"name\":\"F9 FT  B1021.2\",\"orientation\":\"v\",\"showlegend\":true,\"x\":[5300.0],\"xaxis\":\"x\",\"y\":[1],\"yaxis\":\"y\",\"type\":\"scatter\"},{\"hovertemplate\":\"Booster Version=F9 FT B1032.1\\u003cbr\\u003ePayload Mass (kg)=%{x}\\u003cbr\\u003eclass=%{y}\\u003cextra\\u003e\\u003c\\u002fextra\\u003e\",\"legendgroup\":\"F9 FT B1032.1\",\"marker\":{\"color\":\"#19d3f3\",\"symbol\":\"circle\"},\"mode\":\"markers\",\"name\":\"F9 FT B1032.1\",\"orientation\":\"v\",\"showlegend\":true,\"x\":[3696.65],\"xaxis\":\"x\",\"y\":[1],\"yaxis\":\"y\",\"type\":\"scatter\"},{\"hovertemplate\":\"Booster Version=F9 FT B1034\\u003cbr\\u003ePayload Mass (kg)=%{x}\\u003cbr\\u003eclass=%{y}\\u003cextra\\u003e\\u003c\\u002fextra\\u003e\",\"legendgroup\":\"F9 FT B1034\",\"marker\":{\"color\":\"#FF6692\",\"symbol\":\"circle\"},\"mode\":\"markers\",\"name\":\"F9 FT B1034\",\"orientation\":\"v\",\"showlegend\":true,\"x\":[6070.0],\"xaxis\":\"x\",\"y\":[0],\"yaxis\":\"y\",\"type\":\"scatter\"},{\"hovertemplate\":\"Booster Version=F9 FT B1035.1\\u003cbr\\u003ePayload Mass (kg)=%{x}\\u003cbr\\u003eclass=%{y}\\u003cextra\\u003e\\u003c\\u002fextra\\u003e\",\"legendgroup\":\"F9 FT B1035.1\",\"marker\":{\"color\":\"#B6E880\",\"symbol\":\"circle\"},\"mode\":\"markers\",\"name\":\"F9 FT B1035.1\",\"orientation\":\"v\",\"showlegend\":true,\"x\":[2708.0],\"xaxis\":\"x\",\"y\":[1],\"yaxis\":\"y\",\"type\":\"scatter\"},{\"hovertemplate\":\"Booster Version=F9 FT  B1029.2\\u003cbr\\u003ePayload Mass (kg)=%{x}\\u003cbr\\u003eclass=%{y}\\u003cextra\\u003e\\u003c\\u002fextra\\u003e\",\"legendgroup\":\"F9 FT  B1029.2\",\"marker\":{\"color\":\"#FF97FF\",\"symbol\":\"circle\"},\"mode\":\"markers\",\"name\":\"F9 FT  B1029.2\",\"orientation\":\"v\",\"showlegend\":true,\"x\":[3669.0],\"xaxis\":\"x\",\"y\":[1],\"yaxis\":\"y\",\"type\":\"scatter\"},{\"hovertemplate\":\"Booster Version=F9 FT B1037\\u003cbr\\u003ePayload Mass (kg)=%{x}\\u003cbr\\u003eclass=%{y}\\u003cextra\\u003e\\u003c\\u002fextra\\u003e\",\"legendgroup\":\"F9 FT B1037\",\"marker\":{\"color\":\"#FECB52\",\"symbol\":\"circle\"},\"mode\":\"markers\",\"name\":\"F9 FT B1037\",\"orientation\":\"v\",\"showlegend\":true,\"x\":[6761.0],\"xaxis\":\"x\",\"y\":[0],\"yaxis\":\"y\",\"type\":\"scatter\"},{\"hovertemplate\":\"Booster Version=F9 B4 B1039.1\\u003cbr\\u003ePayload Mass (kg)=%{x}\\u003cbr\\u003eclass=%{y}\\u003cextra\\u003e\\u003c\\u002fextra\\u003e\",\"legendgroup\":\"F9 B4 B1039.1\",\"marker\":{\"color\":\"#636efa\",\"symbol\":\"circle\"},\"mode\":\"markers\",\"name\":\"F9 B4 B1039.1\",\"orientation\":\"v\",\"showlegend\":true,\"x\":[3310.0],\"xaxis\":\"x\",\"y\":[1],\"yaxis\":\"y\",\"type\":\"scatter\"},{\"hovertemplate\":\"Booster Version=F9 B4 B1040.1\\u003cbr\\u003ePayload Mass (kg)=%{x}\\u003cbr\\u003eclass=%{y}\\u003cextra\\u003e\\u003c\\u002fextra\\u003e\",\"legendgroup\":\"F9 B4 B1040.1\",\"marker\":{\"color\":\"#EF553B\",\"symbol\":\"circle\"},\"mode\":\"markers\",\"name\":\"F9 B4 B1040.1\",\"orientation\":\"v\",\"showlegend\":true,\"x\":[4990.0],\"xaxis\":\"x\",\"y\":[1],\"yaxis\":\"y\",\"type\":\"scatter\"},{\"hovertemplate\":\"Booster Version=F9 FT  B1031.2\\u003cbr\\u003ePayload Mass (kg)=%{x}\\u003cbr\\u003eclass=%{y}\\u003cextra\\u003e\\u003c\\u002fextra\\u003e\",\"legendgroup\":\"F9 FT  B1031.2\",\"marker\":{\"color\":\"#00cc96\",\"symbol\":\"circle\"},\"mode\":\"markers\",\"name\":\"F9 FT  B1031.2\",\"orientation\":\"v\",\"showlegend\":true,\"x\":[5200.0],\"xaxis\":\"x\",\"y\":[1],\"yaxis\":\"y\",\"type\":\"scatter\"},{\"hovertemplate\":\"Booster Version=F9 B4 B1042.1\\u003cbr\\u003ePayload Mass (kg)=%{x}\\u003cbr\\u003eclass=%{y}\\u003cextra\\u003e\\u003c\\u002fextra\\u003e\",\"legendgroup\":\"F9 B4 B1042.1\",\"marker\":{\"color\":\"#ab63fa\",\"symbol\":\"circle\"},\"mode\":\"markers\",\"name\":\"F9 B4 B1042.1\",\"orientation\":\"v\",\"showlegend\":true,\"x\":[3500.0],\"xaxis\":\"x\",\"y\":[1],\"yaxis\":\"y\",\"type\":\"scatter\"},{\"hovertemplate\":\"Booster Version=F9 B5  B1046.1\\u003cbr\\u003ePayload Mass (kg)=%{x}\\u003cbr\\u003eclass=%{y}\\u003cextra\\u003e\\u003c\\u002fextra\\u003e\",\"legendgroup\":\"F9 B5  B1046.1\",\"marker\":{\"color\":\"#FFA15A\",\"symbol\":\"circle\"},\"mode\":\"markers\",\"name\":\"F9 B5  B1046.1\",\"orientation\":\"v\",\"showlegend\":true,\"x\":[3600.0],\"xaxis\":\"x\",\"y\":[1],\"yaxis\":\"y\",\"type\":\"scatter\"},{\"hovertemplate\":\"Booster Version=F9 FT  B1035.2\\u003cbr\\u003ePayload Mass (kg)=%{x}\\u003cbr\\u003eclass=%{y}\\u003cextra\\u003e\\u003c\\u002fextra\\u003e\",\"legendgroup\":\"F9 FT  B1035.2\",\"marker\":{\"color\":\"#19d3f3\",\"symbol\":\"circle\"},\"mode\":\"markers\",\"name\":\"F9 FT  B1035.2\",\"orientation\":\"v\",\"showlegend\":true,\"x\":[2205.0],\"xaxis\":\"x\",\"y\":[1],\"yaxis\":\"y\",\"type\":\"scatter\"},{\"hovertemplate\":\"Booster Version=F9 B4 B1043.1\\u003cbr\\u003ePayload Mass (kg)=%{x}\\u003cbr\\u003eclass=%{y}\\u003cextra\\u003e\\u003c\\u002fextra\\u003e\",\"legendgroup\":\"F9 B4 B1043.1\",\"marker\":{\"color\":\"#FF6692\",\"symbol\":\"circle\"},\"mode\":\"markers\",\"name\":\"F9 B4 B1043.1\",\"orientation\":\"v\",\"showlegend\":true,\"x\":[3696.65],\"xaxis\":\"x\",\"y\":[1],\"yaxis\":\"y\",\"type\":\"scatter\"},{\"hovertemplate\":\"Booster Version=F9 FT  B1032.2\\u003cbr\\u003ePayload Mass (kg)=%{x}\\u003cbr\\u003eclass=%{y}\\u003cextra\\u003e\\u003c\\u002fextra\\u003e\",\"legendgroup\":\"F9 FT  B1032.2\",\"marker\":{\"color\":\"#B6E880\",\"symbol\":\"circle\"},\"mode\":\"markers\",\"name\":\"F9 FT  B1032.2\",\"orientation\":\"v\",\"showlegend\":true,\"x\":[4230.0],\"xaxis\":\"x\",\"y\":[0],\"yaxis\":\"y\",\"type\":\"scatter\"},{\"hovertemplate\":\"Booster Version=F9 B4 B1044\\u003cbr\\u003ePayload Mass (kg)=%{x}\\u003cbr\\u003eclass=%{y}\\u003cextra\\u003e\\u003c\\u002fextra\\u003e\",\"legendgroup\":\"F9 B4 B1044\",\"marker\":{\"color\":\"#FF97FF\",\"symbol\":\"circle\"},\"mode\":\"markers\",\"name\":\"F9 B4 B1044\",\"orientation\":\"v\",\"showlegend\":true,\"x\":[6092.0],\"xaxis\":\"x\",\"y\":[0],\"yaxis\":\"y\",\"type\":\"scatter\"},{\"hovertemplate\":\"Booster Version=F9 B4  B1039.2\\u003cbr\\u003ePayload Mass (kg)=%{x}\\u003cbr\\u003eclass=%{y}\\u003cextra\\u003e\\u003c\\u002fextra\\u003e\",\"legendgroup\":\"F9 B4  B1039.2\",\"marker\":{\"color\":\"#FECB52\",\"symbol\":\"circle\"},\"mode\":\"markers\",\"name\":\"F9 B4  B1039.2\",\"orientation\":\"v\",\"showlegend\":true,\"x\":[2647.0],\"xaxis\":\"x\",\"y\":[0],\"yaxis\":\"y\",\"type\":\"scatter\"},{\"hovertemplate\":\"Booster Version=F9 B4 B1045.1\\u003cbr\\u003ePayload Mass (kg)=%{x}\\u003cbr\\u003eclass=%{y}\\u003cextra\\u003e\\u003c\\u002fextra\\u003e\",\"legendgroup\":\"F9 B4 B1045.1\",\"marker\":{\"color\":\"#636efa\",\"symbol\":\"circle\"},\"mode\":\"markers\",\"name\":\"F9 B4 B1045.1\",\"orientation\":\"v\",\"showlegend\":true,\"x\":[362.0],\"xaxis\":\"x\",\"y\":[1],\"yaxis\":\"y\",\"type\":\"scatter\"},{\"hovertemplate\":\"Booster Version=F9 B4  B1040.2\\u003cbr\\u003ePayload Mass (kg)=%{x}\\u003cbr\\u003eclass=%{y}\\u003cextra\\u003e\\u003c\\u002fextra\\u003e\",\"legendgroup\":\"F9 B4  B1040.2\",\"marker\":{\"color\":\"#EF553B\",\"symbol\":\"circle\"},\"mode\":\"markers\",\"name\":\"F9 B4  B1040.2\",\"orientation\":\"v\",\"showlegend\":true,\"x\":[5384.0],\"xaxis\":\"x\",\"y\":[0],\"yaxis\":\"y\",\"type\":\"scatter\"}],                        {\"template\":{\"data\":{\"histogram2dcontour\":[{\"type\":\"histogram2dcontour\",\"colorbar\":{\"outlinewidth\":0,\"ticks\":\"\"},\"colorscale\":[[0.0,\"#0d0887\"],[0.1111111111111111,\"#46039f\"],[0.2222222222222222,\"#7201a8\"],[0.3333333333333333,\"#9c179e\"],[0.4444444444444444,\"#bd3786\"],[0.5555555555555556,\"#d8576b\"],[0.6666666666666666,\"#ed7953\"],[0.7777777777777778,\"#fb9f3a\"],[0.8888888888888888,\"#fdca26\"],[1.0,\"#f0f921\"]]}],\"choropleth\":[{\"type\":\"choropleth\",\"colorbar\":{\"outlinewidth\":0,\"ticks\":\"\"}}],\"histogram2d\":[{\"type\":\"histogram2d\",\"colorbar\":{\"outlinewidth\":0,\"ticks\":\"\"},\"colorscale\":[[0.0,\"#0d0887\"],[0.1111111111111111,\"#46039f\"],[0.2222222222222222,\"#7201a8\"],[0.3333333333333333,\"#9c179e\"],[0.4444444444444444,\"#bd3786\"],[0.5555555555555556,\"#d8576b\"],[0.6666666666666666,\"#ed7953\"],[0.7777777777777778,\"#fb9f3a\"],[0.8888888888888888,\"#fdca26\"],[1.0,\"#f0f921\"]]}],\"heatmap\":[{\"type\":\"heatmap\",\"colorbar\":{\"outlinewidth\":0,\"ticks\":\"\"},\"colorscale\":[[0.0,\"#0d0887\"],[0.1111111111111111,\"#46039f\"],[0.2222222222222222,\"#7201a8\"],[0.3333333333333333,\"#9c179e\"],[0.4444444444444444,\"#bd3786\"],[0.5555555555555556,\"#d8576b\"],[0.6666666666666666,\"#ed7953\"],[0.7777777777777778,\"#fb9f3a\"],[0.8888888888888888,\"#fdca26\"],[1.0,\"#f0f921\"]]}],\"heatmapgl\":[{\"type\":\"heatmapgl\",\"colorbar\":{\"outlinewidth\":0,\"ticks\":\"\"},\"colorscale\":[[0.0,\"#0d0887\"],[0.1111111111111111,\"#46039f\"],[0.2222222222222222,\"#7201a8\"],[0.3333333333333333,\"#9c179e\"],[0.4444444444444444,\"#bd3786\"],[0.5555555555555556,\"#d8576b\"],[0.6666666666666666,\"#ed7953\"],[0.7777777777777778,\"#fb9f3a\"],[0.8888888888888888,\"#fdca26\"],[1.0,\"#f0f921\"]]}],\"contourcarpet\":[{\"type\":\"contourcarpet\",\"colorbar\":{\"outlinewidth\":0,\"ticks\":\"\"}}],\"contour\":[{\"type\":\"contour\",\"colorbar\":{\"outlinewidth\":0,\"ticks\":\"\"},\"colorscale\":[[0.0,\"#0d0887\"],[0.1111111111111111,\"#46039f\"],[0.2222222222222222,\"#7201a8\"],[0.3333333333333333,\"#9c179e\"],[0.4444444444444444,\"#bd3786\"],[0.5555555555555556,\"#d8576b\"],[0.6666666666666666,\"#ed7953\"],[0.7777777777777778,\"#fb9f3a\"],[0.8888888888888888,\"#fdca26\"],[1.0,\"#f0f921\"]]}],\"surface\":[{\"type\":\"surface\",\"colorbar\":{\"outlinewidth\":0,\"ticks\":\"\"},\"colorscale\":[[0.0,\"#0d0887\"],[0.1111111111111111,\"#46039f\"],[0.2222222222222222,\"#7201a8\"],[0.3333333333333333,\"#9c179e\"],[0.4444444444444444,\"#bd3786\"],[0.5555555555555556,\"#d8576b\"],[0.6666666666666666,\"#ed7953\"],[0.7777777777777778,\"#fb9f3a\"],[0.8888888888888888,\"#fdca26\"],[1.0,\"#f0f921\"]]}],\"mesh3d\":[{\"type\":\"mesh3d\",\"colorbar\":{\"outlinewidth\":0,\"ticks\":\"\"}}],\"scatter\":[{\"fillpattern\":{\"fillmode\":\"overlay\",\"size\":10,\"solidity\":0.2},\"type\":\"scatter\"}],\"parcoords\":[{\"type\":\"parcoords\",\"line\":{\"colorbar\":{\"outlinewidth\":0,\"ticks\":\"\"}}}],\"scatterpolargl\":[{\"type\":\"scatterpolargl\",\"marker\":{\"colorbar\":{\"outlinewidth\":0,\"ticks\":\"\"}}}],\"bar\":[{\"error_x\":{\"color\":\"#2a3f5f\"},\"error_y\":{\"color\":\"#2a3f5f\"},\"marker\":{\"line\":{\"color\":\"#E5ECF6\",\"width\":0.5},\"pattern\":{\"fillmode\":\"overlay\",\"size\":10,\"solidity\":0.2}},\"type\":\"bar\"}],\"scattergeo\":[{\"type\":\"scattergeo\",\"marker\":{\"colorbar\":{\"outlinewidth\":0,\"ticks\":\"\"}}}],\"scatterpolar\":[{\"type\":\"scatterpolar\",\"marker\":{\"colorbar\":{\"outlinewidth\":0,\"ticks\":\"\"}}}],\"histogram\":[{\"marker\":{\"pattern\":{\"fillmode\":\"overlay\",\"size\":10,\"solidity\":0.2}},\"type\":\"histogram\"}],\"scattergl\":[{\"type\":\"scattergl\",\"marker\":{\"colorbar\":{\"outlinewidth\":0,\"ticks\":\"\"}}}],\"scatter3d\":[{\"type\":\"scatter3d\",\"line\":{\"colorbar\":{\"outlinewidth\":0,\"ticks\":\"\"}},\"marker\":{\"colorbar\":{\"outlinewidth\":0,\"ticks\":\"\"}}}],\"scattermapbox\":[{\"type\":\"scattermapbox\",\"marker\":{\"colorbar\":{\"outlinewidth\":0,\"ticks\":\"\"}}}],\"scatterternary\":[{\"type\":\"scatterternary\",\"marker\":{\"colorbar\":{\"outlinewidth\":0,\"ticks\":\"\"}}}],\"scattercarpet\":[{\"type\":\"scattercarpet\",\"marker\":{\"colorbar\":{\"outlinewidth\":0,\"ticks\":\"\"}}}],\"carpet\":[{\"aaxis\":{\"endlinecolor\":\"#2a3f5f\",\"gridcolor\":\"white\",\"linecolor\":\"white\",\"minorgridcolor\":\"white\",\"startlinecolor\":\"#2a3f5f\"},\"baxis\":{\"endlinecolor\":\"#2a3f5f\",\"gridcolor\":\"white\",\"linecolor\":\"white\",\"minorgridcolor\":\"white\",\"startlinecolor\":\"#2a3f5f\"},\"type\":\"carpet\"}],\"table\":[{\"cells\":{\"fill\":{\"color\":\"#EBF0F8\"},\"line\":{\"color\":\"white\"}},\"header\":{\"fill\":{\"color\":\"#C8D4E3\"},\"line\":{\"color\":\"white\"}},\"type\":\"table\"}],\"barpolar\":[{\"marker\":{\"line\":{\"color\":\"#E5ECF6\",\"width\":0.5},\"pattern\":{\"fillmode\":\"overlay\",\"size\":10,\"solidity\":0.2}},\"type\":\"barpolar\"}],\"pie\":[{\"automargin\":true,\"type\":\"pie\"}]},\"layout\":{\"autotypenumbers\":\"strict\",\"colorway\":[\"#636efa\",\"#EF553B\",\"#00cc96\",\"#ab63fa\",\"#FFA15A\",\"#19d3f3\",\"#FF6692\",\"#B6E880\",\"#FF97FF\",\"#FECB52\"],\"font\":{\"color\":\"#2a3f5f\"},\"hovermode\":\"closest\",\"hoverlabel\":{\"align\":\"left\"},\"paper_bgcolor\":\"white\",\"plot_bgcolor\":\"#E5ECF6\",\"polar\":{\"bgcolor\":\"#E5ECF6\",\"angularaxis\":{\"gridcolor\":\"white\",\"linecolor\":\"white\",\"ticks\":\"\"},\"radialaxis\":{\"gridcolor\":\"white\",\"linecolor\":\"white\",\"ticks\":\"\"}},\"ternary\":{\"bgcolor\":\"#E5ECF6\",\"aaxis\":{\"gridcolor\":\"white\",\"linecolor\":\"white\",\"ticks\":\"\"},\"baxis\":{\"gridcolor\":\"white\",\"linecolor\":\"white\",\"ticks\":\"\"},\"caxis\":{\"gridcolor\":\"white\",\"linecolor\":\"white\",\"ticks\":\"\"}},\"coloraxis\":{\"colorbar\":{\"outlinewidth\":0,\"ticks\":\"\"}},\"colorscale\":{\"sequential\":[[0.0,\"#0d0887\"],[0.1111111111111111,\"#46039f\"],[0.2222222222222222,\"#7201a8\"],[0.3333333333333333,\"#9c179e\"],[0.4444444444444444,\"#bd3786\"],[0.5555555555555556,\"#d8576b\"],[0.6666666666666666,\"#ed7953\"],[0.7777777777777778,\"#fb9f3a\"],[0.8888888888888888,\"#fdca26\"],[1.0,\"#f0f921\"]],\"sequentialminus\":[[0.0,\"#0d0887\"],[0.1111111111111111,\"#46039f\"],[0.2222222222222222,\"#7201a8\"],[0.3333333333333333,\"#9c179e\"],[0.4444444444444444,\"#bd3786\"],[0.5555555555555556,\"#d8576b\"],[0.6666666666666666,\"#ed7953\"],[0.7777777777777778,\"#fb9f3a\"],[0.8888888888888888,\"#fdca26\"],[1.0,\"#f0f921\"]],\"diverging\":[[0,\"#8e0152\"],[0.1,\"#c51b7d\"],[0.2,\"#de77ae\"],[0.3,\"#f1b6da\"],[0.4,\"#fde0ef\"],[0.5,\"#f7f7f7\"],[0.6,\"#e6f5d0\"],[0.7,\"#b8e186\"],[0.8,\"#7fbc41\"],[0.9,\"#4d9221\"],[1,\"#276419\"]]},\"xaxis\":{\"gridcolor\":\"white\",\"linecolor\":\"white\",\"ticks\":\"\",\"title\":{\"standoff\":15},\"zerolinecolor\":\"white\",\"automargin\":true,\"zerolinewidth\":2},\"yaxis\":{\"gridcolor\":\"white\",\"linecolor\":\"white\",\"ticks\":\"\",\"title\":{\"standoff\":15},\"zerolinecolor\":\"white\",\"automargin\":true,\"zerolinewidth\":2},\"scene\":{\"xaxis\":{\"backgroundcolor\":\"#E5ECF6\",\"gridcolor\":\"white\",\"linecolor\":\"white\",\"showbackground\":true,\"ticks\":\"\",\"zerolinecolor\":\"white\",\"gridwidth\":2},\"yaxis\":{\"backgroundcolor\":\"#E5ECF6\",\"gridcolor\":\"white\",\"linecolor\":\"white\",\"showbackground\":true,\"ticks\":\"\",\"zerolinecolor\":\"white\",\"gridwidth\":2},\"zaxis\":{\"backgroundcolor\":\"#E5ECF6\",\"gridcolor\":\"white\",\"linecolor\":\"white\",\"showbackground\":true,\"ticks\":\"\",\"zerolinecolor\":\"white\",\"gridwidth\":2}},\"shapedefaults\":{\"line\":{\"color\":\"#2a3f5f\"}},\"annotationdefaults\":{\"arrowcolor\":\"#2a3f5f\",\"arrowhead\":0,\"arrowwidth\":1},\"geo\":{\"bgcolor\":\"white\",\"landcolor\":\"#E5ECF6\",\"subunitcolor\":\"white\",\"showland\":true,\"showlakes\":true,\"lakecolor\":\"white\"},\"title\":{\"x\":0.05},\"mapbox\":{\"style\":\"light\"}}},\"xaxis\":{\"anchor\":\"y\",\"domain\":[0.0,1.0],\"title\":{\"text\":\"Payload Mass (kg)\"}},\"yaxis\":{\"anchor\":\"x\",\"domain\":[0.0,1.0],\"title\":{\"text\":\"class\"}},\"legend\":{\"title\":{\"text\":\"Booster Version\"},\"tracegroupgap\":0},\"title\":{\"text\":\"How Payload Affects Success\"}},                        {\"responsive\": true}                    ).then(function(){\n",
       "                            \n",
       "var gd = document.getElementById('fbba875f-4a68-44e0-bbe8-da98e83a0aba');\n",
       "var x = new MutationObserver(function (mutations, observer) {{\n",
       "        var display = window.getComputedStyle(gd).display;\n",
       "        if (!display || display === 'none') {{\n",
       "            console.log([gd, 'removed!']);\n",
       "            Plotly.purge(gd);\n",
       "            observer.disconnect();\n",
       "        }}\n",
       "}});\n",
       "\n",
       "// Listen for the removal of the full notebook cells\n",
       "var notebookContainer = gd.closest('#notebook-container');\n",
       "if (notebookContainer) {{\n",
       "    x.observe(notebookContainer, {childList: true});\n",
       "}}\n",
       "\n",
       "// Listen for the clearing of the current output cell\n",
       "var outputEl = gd.closest('.output');\n",
       "if (outputEl) {{\n",
       "    x.observe(outputEl, {childList: true});\n",
       "}}\n",
       "\n",
       "                        })                };                });            </script>        </div>"
      ]
     },
     "metadata": {},
     "output_type": "display_data"
    }
   ],
   "source": [
    "fig = px.scatter(df, x='Payload Mass (kg)', y='class',\n",
    "                 color='Booster Version',\n",
    "                 title='How Payload Affects Success')\n",
    "\n",
    "fig.show()"
   ]
  },
  {
   "cell_type": "code",
   "execution_count": 10,
   "id": "6ed95a00-e1c7-4472-920f-b9861b316527",
   "metadata": {},
   "outputs": [
    {
     "data": {
      "text/html": [
       "\n",
       "        <iframe\n",
       "            width=\"100%\"\n",
       "            height=\"650\"\n",
       "            src=\"http://127.0.0.1:8050/\"\n",
       "            frameborder=\"0\"\n",
       "            allowfullscreen\n",
       "            \n",
       "        ></iframe>\n",
       "        "
      ],
      "text/plain": [
       "<IPython.lib.display.IFrame at 0x293d80067e0>"
      ]
     },
     "metadata": {},
     "output_type": "display_data"
    }
   ],
   "source": [
    "# Create a dash application\n",
    "app = dash.Dash(__name__)\n",
    "\n",
    "# Create an app layout\n",
    "app.layout = html.Div(children=[html.H1('SpaceX Launch Records Dashboard',\n",
    "                                        style={'textAlign': 'center', 'color': '#503D36',\n",
    "                                               'font-size': 40}),\n",
    "                                # TASK 1: Add a dropdown list to enable Launch Site selection\n",
    "                                # The default select value is for ALL sites\n",
    "                                dcc.Dropdown(id='site-dropdown',\n",
    "                                             options = options, \n",
    "                                             value='All',\n",
    "                                             placeholder='Select a launch site here', \n",
    "                                             searchable=True),\n",
    "                                             \n",
    "                                html.Br(),\n",
    "\n",
    "                                # TASK 2: Add a pie chart to show the total successful launches count for all sites\n",
    "                                # If a specific launch site was selected, show the Success vs. Failed counts for the site\n",
    "                                html.Div(dcc.Graph(id='success-pie-chart')),\n",
    "                                html.Br(),\n",
    "\n",
    "                                html.P(\"Payload range (Kg):\"),\n",
    "                                # TASK 3: Add a slider to select payload range\n",
    "                                dcc.RangeSlider(id='payload-slider',\n",
    "                                                min=0, \n",
    "                                                max=10000, \n",
    "                                                step=1000,\n",
    "                                                value=[min_payload, max_payload]\n",
    "                                               ),\n",
    "\n",
    "                                # TASK 4: Add a scatter chart to show the correlation between payload and launch success\n",
    "                                html.Div(\n",
    "                                    # id='test'\n",
    "                                    dcc.Graph(id='success-payload-scatter-chart')\n",
    "                                ),\n",
    "                                ])\n",
    "\n",
    "# TASK 2:\n",
    "# Add a callback function for `site-dropdown` as input, `success-pie-chart` as output\n",
    "@app.callback(Output(component_id='success-pie-chart', component_property='figure'), \n",
    "              Input(component_id='site-dropdown', component_property='value'))\n",
    "\n",
    "def get_pie_chart(entered_site):\n",
    "    if entered_site == 'All':\n",
    "        fig = px.pie(df, \n",
    "                     values='class', \n",
    "                     names='Launch Site', \n",
    "                     title='Number of Success Flights by Launch Sites')\n",
    "        return fig\n",
    "    else: \n",
    "        filtered_df = df[df['Launch Site']==entered_site]\n",
    "        counts = filtered_df['class'].value_counts().to_list()\n",
    "        labels = ['Failure', 'Success']\n",
    "        fig = px.pie(filtered_df, \n",
    "                     values=counts, \n",
    "                     names=labels, \n",
    "                     title=f'Proportion of Success in {entered_site}')\n",
    "        return fig\n",
    "    \n",
    "# TASK 4:\n",
    "# Add a callback function for `site-dropdown` and `payload-slider` as inputs, `success-payload-scatter-chart` as output\n",
    "@app.callback(\n",
    "    Output(component_id='success-payload-scatter-chart',\n",
    "    #     component_id='test',\n",
    "        component_property='figure'),\n",
    "        # component_property='children'),\n",
    "    [Input(component_id='site-dropdown', component_property='value'),\n",
    "    Input(component_id='payload-slider', component_property='value')])\n",
    "\n",
    "def scatter_plot(site, payload_range):\n",
    "    if site == 'All':\n",
    "        filtered_df = df[(df['Payload Mass (kg)'] > payload_range[0]) & (df['Payload Mass (kg)'] < payload_range[1])]\n",
    "        fig = px.scatter(filtered_df, x='Payload Mass (kg)', y='class', \n",
    "                         color='Booster Version',\n",
    "                         title='How Payload Affects Success Across All Sites')\n",
    "        return fig\n",
    "    else: \n",
    "        filtered_df = df[(df['Launch Site'] == site) & (df['Payload Mass (kg)'] > payload_range[0]) & (df['Payload Mass (kg)'] < payload_range[1])]\n",
    "        fig = px.scatter(filtered_df, x='Payload Mass (kg)', y='class', \n",
    "                         color='Booster Version',\n",
    "                         title=f'How Payload Affects Success in {site}')\n",
    "        return fig\n",
    "\n",
    "# Run the app\n",
    "if __name__ == '__main__':\n",
    "    app.run_server()"
   ]
  },
  {
   "cell_type": "code",
   "execution_count": null,
   "id": "6dd21720-d49d-48fe-8e73-fd5501299bcf",
   "metadata": {},
   "outputs": [],
   "source": []
  }
 ],
 "metadata": {
  "kernelspec": {
   "display_name": "Python 3 (ipykernel)",
   "language": "python",
   "name": "python3"
  },
  "language_info": {
   "codemirror_mode": {
    "name": "ipython",
    "version": 3
   },
   "file_extension": ".py",
   "mimetype": "text/x-python",
   "name": "python",
   "nbconvert_exporter": "python",
   "pygments_lexer": "ipython3",
   "version": "3.12.0"
  }
 },
 "nbformat": 4,
 "nbformat_minor": 5
}
